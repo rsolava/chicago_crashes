{
 "cells": [
  {
   "cell_type": "code",
   "execution_count": 2,
   "id": "df7a802c",
   "metadata": {},
   "outputs": [],
   "source": [
    "#Pandas and numpy\n",
    "import pandas as pd\n",
    "import numpy as np\n",
    "import datetime\n",
    "\n",
    "#Automated EDA visualisation\n",
    "import sweetviz as sv\n",
    "\n",
    "#All my sklearn models/packages\n",
    "from sklearn.linear_model import LogisticRegression\n",
    "from sklearn.tree import DecisionTreeClassifier\n",
    "from sklearn.ensemble import RandomForestClassifier, GradientBoostingClassifier, ExtraTreesClassifier\n",
    "from sklearn.naive_bayes import BernoulliNB\n",
    "from sklearn.neighbors import KNeighborsClassifier\n",
    "from xgboost import XGBClassifier\n",
    "\n",
    "from sklearn.model_selection import GridSearchCV\n",
    "from sklearn.model_selection import train_test_split\n",
    "from fast_ml.model_development import train_valid_test_split\n",
    "\n",
    "import sklearn.metrics as metrics\n",
    "\n",
    "#Ploting\n",
    "import matplotlib.pyplot as plt\n",
    "import matplotlib.ticker as mtick\n",
    "\n",
    "#Plotting geodata\n",
    "import geopandas\n",
    "from shapely import wkt\n",
    "import contextily as ctx\n",
    "import xyzservices.providers as xyz"
   ]
  },
  {
   "cell_type": "code",
   "execution_count": 3,
   "id": "32f49f1a",
   "metadata": {},
   "outputs": [],
   "source": [
    "crash_df = pd.read_csv(\"crashes.csv\")"
   ]
  },
  {
   "cell_type": "code",
   "execution_count": 4,
   "id": "10285589",
   "metadata": {},
   "outputs": [
    {
     "name": "stdout",
     "output_type": "stream",
     "text": [
      "<class 'pandas.core.frame.DataFrame'>\n",
      "RangeIndex: 577144 entries, 0 to 577143\n",
      "Data columns (total 49 columns):\n",
      " #   Column                         Non-Null Count   Dtype  \n",
      "---  ------                         --------------   -----  \n",
      " 0   CRASH_RECORD_ID                577144 non-null  object \n",
      " 1   RD_NO                          573882 non-null  object \n",
      " 2   CRASH_DATE_EST_I               43618 non-null   object \n",
      " 3   CRASH_DATE                     577144 non-null  object \n",
      " 4   POSTED_SPEED_LIMIT             577144 non-null  int64  \n",
      " 5   TRAFFIC_CONTROL_DEVICE         577144 non-null  object \n",
      " 6   DEVICE_CONDITION               577144 non-null  object \n",
      " 7   WEATHER_CONDITION              577144 non-null  object \n",
      " 8   LIGHTING_CONDITION             577144 non-null  object \n",
      " 9   FIRST_CRASH_TYPE               577144 non-null  object \n",
      " 10  TRAFFICWAY_TYPE                577144 non-null  object \n",
      " 11  LANE_CNT                       198978 non-null  float64\n",
      " 12  ALIGNMENT                      577144 non-null  object \n",
      " 13  ROADWAY_SURFACE_COND           577144 non-null  object \n",
      " 14  ROAD_DEFECT                    577144 non-null  object \n",
      " 15  REPORT_TYPE                    562495 non-null  object \n",
      " 16  CRASH_TYPE                     577144 non-null  object \n",
      " 17  INTERSECTION_RELATED_I         131527 non-null  object \n",
      " 18  NOT_RIGHT_OF_WAY_I             27184 non-null   object \n",
      " 19  HIT_AND_RUN_I                  175428 non-null  object \n",
      " 20  DAMAGE                         577144 non-null  object \n",
      " 21  DATE_POLICE_NOTIFIED           577144 non-null  object \n",
      " 22  PRIM_CONTRIBUTORY_CAUSE        577144 non-null  object \n",
      " 23  SEC_CONTRIBUTORY_CAUSE         577144 non-null  object \n",
      " 24  STREET_NO                      577144 non-null  int64  \n",
      " 25  STREET_DIRECTION               577140 non-null  object \n",
      " 26  STREET_NAME                    577143 non-null  object \n",
      " 27  BEAT_OF_OCCURRENCE             577139 non-null  float64\n",
      " 28  PHOTOS_TAKEN_I                 7121 non-null    object \n",
      " 29  STATEMENTS_TAKEN_I             11661 non-null   object \n",
      " 30  DOORING_I                      1834 non-null    object \n",
      " 31  WORK_ZONE_I                    3581 non-null    object \n",
      " 32  WORK_ZONE_TYPE                 2827 non-null    object \n",
      " 33  WORKERS_PRESENT_I              893 non-null     object \n",
      " 34  NUM_UNITS                      577144 non-null  int64  \n",
      " 35  MOST_SEVERE_INJURY             575949 non-null  object \n",
      " 36  INJURIES_TOTAL                 575960 non-null  float64\n",
      " 37  INJURIES_FATAL                 575960 non-null  float64\n",
      " 38  INJURIES_INCAPACITATING        575960 non-null  float64\n",
      " 39  INJURIES_NON_INCAPACITATING    575960 non-null  float64\n",
      " 40  INJURIES_REPORTED_NOT_EVIDENT  575960 non-null  float64\n",
      " 41  INJURIES_NO_INDICATION         575960 non-null  float64\n",
      " 42  INJURIES_UNKNOWN               575960 non-null  float64\n",
      " 43  CRASH_HOUR                     577144 non-null  int64  \n",
      " 44  CRASH_DAY_OF_WEEK              577144 non-null  int64  \n",
      " 45  CRASH_MONTH                    577144 non-null  int64  \n",
      " 46  LATITUDE                       573742 non-null  float64\n",
      " 47  LONGITUDE                      573742 non-null  float64\n",
      " 48  LOCATION                       573742 non-null  object \n",
      "dtypes: float64(11), int64(6), object(32)\n",
      "memory usage: 215.8+ MB\n"
     ]
    }
   ],
   "source": [
    "crash_df.info()"
   ]
  },
  {
   "cell_type": "code",
   "execution_count": 5,
   "id": "4c8eeacf",
   "metadata": {},
   "outputs": [
    {
     "data": {
      "text/plain": [
       "array([2515.,  834.,  331.,  224., 1654., 1732., 1115., 1822.,  225.,\n",
       "       1034., 1113.,  131.,  334.,  511., 2511.,  212.,  234.,  623.,\n",
       "       1011., 1655.,  222., 1412., 2411., 1821.,  412., 1135.,  814.,\n",
       "        524., 1922., 1414., 1235., 1925., 1513., 1221.,  411., 2223.,\n",
       "       1111.,  523., 1911., 1832.,  124., 1611.,  733., 1224., 1032.,\n",
       "        413., 1214., 1431.,  423., 1634., 2521., 1934., 1621.,  114.,\n",
       "        233., 1653., 2211., 1523.,  324., 1921., 1724.,  824., 2534.,\n",
       "       1733., 1215., 1834.,  911.,  822.,  611., 1713., 1622.,  211.,\n",
       "       2423.,  823.,  833., 1813., 1532.,  724., 1935., 1031.,  933.,\n",
       "       2531., 1233., 1234.,  711.,  532., 1023., 2031., 2212.,  923.,\n",
       "       1012., 1824.,  633., 1133., 1432., 2432.,  111.,  323., 2413.,\n",
       "       1711., 1912., 1422., 1652., 2533., 1712.,  533.,  122., 2032.,\n",
       "        121., 1433., 1651., 1932., 1212.,  725.,  831., 1022., 1913.,\n",
       "       2222.,  714., 1222.,  811.,  432., 1424.,   nan,  313., 1624.,\n",
       "        422., 2022., 2512., 2233.,  632., 1731., 2524., 2532., 2523.,\n",
       "       1522., 2535.,  821., 2213.,  914.,  932., 1121., 1124.,  614.,\n",
       "       1434.,  232.,  913.,  434., 1232., 2433.,  123.,  812.,  431.,\n",
       "       2424., 1411., 2412.,  513.,  912., 1211.,  825., 1134., 1531.,\n",
       "       1631., 2525., 1722.,  835.,  915.,  832.,  612., 1833.,  634.,\n",
       "       2033., 1123.,  924., 1223., 2012.,  132.,  312., 1524.,  713.,\n",
       "        213., 1225., 1122., 1125., 2011., 1014.,  214.,  223., 1112.,\n",
       "        935.,  813.,  732., 2013., 2522.,  726., 1723., 1623.,  934.,\n",
       "       1612.,  322., 1613., 1632., 1511.,  622.,  621., 2232., 1633.,\n",
       "        215., 1131.,  421.,  424., 1213., 1132., 1021.,  922.,  815.,\n",
       "        925., 1933.,  321.,  624.,  631., 1421., 1033.,  231., 1814.,\n",
       "       2514.,  731.,  734., 1512., 1914.,  512.,  931., 1931.,  522.,\n",
       "        722., 1533., 1413.,  715., 2221., 2431., 1024.,  332., 1423.,\n",
       "       1811.,  221.,  735.,  235.,  333., 2234.,  433.,  414., 1831.,\n",
       "       1614., 1231., 1013., 2422.,  921., 1823.,  112.,  133., 1114.,\n",
       "        712., 2024.,  314., 1924.,  531., 1915.,  311., 2513.,  113.,\n",
       "       1812., 2023.,  613., 1923.,  723., 6100.])"
      ]
     },
     "execution_count": 5,
     "metadata": {},
     "output_type": "execute_result"
    }
   ],
   "source": [
    "crash_df.BEAT_OF_OCCURRENCE.unique()"
   ]
  },
  {
   "cell_type": "code",
   "execution_count": 6,
   "id": "f6663dd9",
   "metadata": {},
   "outputs": [
    {
     "data": {
      "text/plain": [
       "Index(['CRASH_RECORD_ID', 'RD_NO', 'CRASH_DATE_EST_I', 'CRASH_DATE',\n",
       "       'POSTED_SPEED_LIMIT', 'TRAFFIC_CONTROL_DEVICE', 'DEVICE_CONDITION',\n",
       "       'WEATHER_CONDITION', 'LIGHTING_CONDITION', 'FIRST_CRASH_TYPE',\n",
       "       'TRAFFICWAY_TYPE', 'LANE_CNT', 'ALIGNMENT', 'ROADWAY_SURFACE_COND',\n",
       "       'ROAD_DEFECT', 'REPORT_TYPE', 'CRASH_TYPE', 'INTERSECTION_RELATED_I',\n",
       "       'NOT_RIGHT_OF_WAY_I', 'HIT_AND_RUN_I', 'DAMAGE', 'DATE_POLICE_NOTIFIED',\n",
       "       'PRIM_CONTRIBUTORY_CAUSE', 'SEC_CONTRIBUTORY_CAUSE', 'STREET_NO',\n",
       "       'STREET_DIRECTION', 'STREET_NAME', 'BEAT_OF_OCCURRENCE',\n",
       "       'PHOTOS_TAKEN_I', 'STATEMENTS_TAKEN_I', 'DOORING_I', 'WORK_ZONE_I',\n",
       "       'WORK_ZONE_TYPE', 'WORKERS_PRESENT_I', 'NUM_UNITS',\n",
       "       'MOST_SEVERE_INJURY', 'INJURIES_TOTAL', 'INJURIES_FATAL',\n",
       "       'INJURIES_INCAPACITATING', 'INJURIES_NON_INCAPACITATING',\n",
       "       'INJURIES_REPORTED_NOT_EVIDENT', 'INJURIES_NO_INDICATION',\n",
       "       'INJURIES_UNKNOWN', 'CRASH_HOUR', 'CRASH_DAY_OF_WEEK', 'CRASH_MONTH',\n",
       "       'LATITUDE', 'LONGITUDE', 'LOCATION'],\n",
       "      dtype='object')"
      ]
     },
     "execution_count": 6,
     "metadata": {},
     "output_type": "execute_result"
    }
   ],
   "source": [
    "crash_df.columns"
   ]
  },
  {
   "cell_type": "markdown",
   "id": "edbd05c6",
   "metadata": {},
   "source": [
    "Let's go through these columns and see what is usable as a feature\n",
    "\n",
    "- CRASH_RECORD_ID is not meaningful\n",
    "- CRASH_DATE_EST_I is mostly N/A, we can use CRASH_DATE instead (which has no null values)\n",
    "- CRASH_DATE, we'll instead use HOUR, DAY_OF_WEEK and MONTH\n",
    "- POSTED_SPEED_LIMIT can be used\n",
    "- LANE_CNT could be used but many NA values\n",
    "- BEAT_OF_OCCURANCE could be used. Should be treated as int or categorical? Is the number meaningful? Update: first 1 or 2 digits give district. So it should be useful as a numeric feature. Could split up into a district feature.\n",
    "- TRAFFIC_CONTROL_DEVICE, DEVICE_CONDITION, WEATHER_CONDITION, LIGHTING_CONDITION, TRAFFICWAY_TYPE, ROADWAY_SURFACE_CONDITION, ROAD_DEFECT needs to be dummified, could be used\n",
    "- FIRST_CRASH_TYPE, ALIGNMENT, REPORT_TYPE, CRASH_TYPE, NOT_RIGHT_OF_WAY_I, DAMAGE, DATE_POLICE_NOTIFIED, PRIM_CONTRIBUTORY_CAUSE, SEC_CONTRIBUTORY_CAUSE, PHOTOS_TAKE_I, STATEMENTS_TAKEN_I, NUM_UNITS,'MOST_SEVERE_INJURY', 'INJURIES_TOTAL', 'INJURIES_FATAL','INJURIES_INCAPACITATING', 'INJURIES_NON_INCAPACITATING', 'INJURIES_REPORTED_NOT_EVIDENT', 'INJURIES_NO_INDICATION','INJURIES_UNKNOWN', 'DOORING_I' are all post-crash info. We won't include as features, but some may be interesting to examine in more detail to motivate the question or restrict our analysis (i.e. perhaps we should only look at 'serious' hit and runs where someone is injured or a lot of damage is done)\n",
    "- WORK_ZONE_I could be useful, need to be dummified\n",
    "- WORK_ZONE_TYPE and WORKERS_PRESENT_I only apply to crashes in work zones, probably won't include those.\n",
    "- HIT_AND_RUN_I is our target\n",
    "- LATITUDE, LONGITUDE are useful\n",
    "- LOCATION has the same info as LONG & LAT, won't be used as a feature but useful for geodata packages\n",
    "- STREET_NAME, STREET_NO, STREET_DIRECTION could be used, but overlap with LOCATION. We'll start by not including them."
   ]
  },
  {
   "cell_type": "code",
   "execution_count": 7,
   "id": "2e3fbac8",
   "metadata": {},
   "outputs": [],
   "source": [
    "crash_df[\"HAR\"] = crash_df.HIT_AND_RUN_I.apply(lambda x: 1 if x==\"Y\" else 0)"
   ]
  },
  {
   "cell_type": "code",
   "execution_count": 8,
   "id": "a91cb0f4",
   "metadata": {},
   "outputs": [
    {
     "data": {
      "text/plain": [
       "array([0, 1])"
      ]
     },
     "execution_count": 8,
     "metadata": {},
     "output_type": "execute_result"
    }
   ],
   "source": [
    "crash_df.HAR.unique()"
   ]
  },
  {
   "cell_type": "code",
   "execution_count": 9,
   "id": "0c70fae5",
   "metadata": {},
   "outputs": [],
   "source": [
    "crash_df.CRASH_DATE = pd.to_datetime(crash_df.CRASH_DATE)"
   ]
  },
  {
   "cell_type": "code",
   "execution_count": 10,
   "id": "bd30e0ef",
   "metadata": {},
   "outputs": [
    {
     "data": {
      "text/plain": [
       "0   2019-07-10 17:56:00\n",
       "1   2017-06-30 16:00:00\n",
       "2   2020-07-10 10:25:00\n",
       "3   2020-07-11 01:00:00\n",
       "4   2020-07-08 14:00:00\n",
       "Name: CRASH_DATE, dtype: datetime64[ns]"
      ]
     },
     "execution_count": 10,
     "metadata": {},
     "output_type": "execute_result"
    }
   ],
   "source": [
    "crash_df.CRASH_DATE.head()"
   ]
  },
  {
   "cell_type": "code",
   "execution_count": 11,
   "id": "ca47d582",
   "metadata": {},
   "outputs": [],
   "source": [
    "#report = sv.analyze(crash_df, target_feat = \"HAR\")\n",
    "#report.show_html()"
   ]
  },
  {
   "cell_type": "markdown",
   "id": "a5b6e3c3",
   "metadata": {},
   "source": [
    "Some take aways from this initial EDA\n",
    "\n",
    "* Hit & runs are more likely to happen at night\n",
    "* Hit & runs account for a large percentage of crashes involving pedestrians and fatal crashes\n",
    "* Lighting, weather, road condition are relevant\n",
    "* All 'unknown' values are very correlated with hit and runs. This makes sense, but we can't use that. Have to get rid of UNKNOWN values somehow\n",
    "* Fewer hit and runs in January. Why?\n",
    "* Many hit & runs involve parked cars\n",
    "* Many hit & runs have small amounts of damage\n",
    "* Hit & runs are more likely on one way streets and alleys\n",
    "* Hit and runs account for 29% of crashes\n",
    "* Hit and runs are more likely at stop signs\n",
    "* Most crashes occur in 30-35 speed limit zones, but hit and runs occur at slower and faster speed limit zones\n",
    "* Device condition does not seem correlated with hit and runs\n",
    "* Crashes are more likely when the weather is anything but clear\n",
    "* No major difference between dark and dark with lighted road\n"
   ]
  },
  {
   "cell_type": "code",
   "execution_count": 12,
   "id": "1642784f",
   "metadata": {},
   "outputs": [
    {
     "data": {
      "text/plain": [
       "167901"
      ]
     },
     "execution_count": 12,
     "metadata": {},
     "output_type": "execute_result"
    }
   ],
   "source": [
    "crash_df.columns\n",
    "crash_df.HAR.sum()"
   ]
  },
  {
   "cell_type": "markdown",
   "id": "1934f11a",
   "metadata": {},
   "source": [
    "Let's create a decision tree model based on just a few features as an MVP"
   ]
  },
  {
   "cell_type": "code",
   "execution_count": 13,
   "id": "501792fc",
   "metadata": {},
   "outputs": [],
   "source": [
    "features = [\"POSTED_SPEED_LIMIT\",\n",
    "            \"BEAT_OF_OCCURRENCE\",\"CRASH_HOUR\",\"CRASH_DAY_OF_WEEK\",\n",
    "            \"CRASH_MONTH\",\"LATITUDE\",\"LONGITUDE\"]\n"
   ]
  },
  {
   "cell_type": "code",
   "execution_count": 14,
   "id": "f2f82575",
   "metadata": {},
   "outputs": [
    {
     "data": {
      "text/plain": [
       "167226"
      ]
     },
     "execution_count": 14,
     "metadata": {},
     "output_type": "execute_result"
    }
   ],
   "source": [
    "crash_df2 = crash_df[features+[\"HAR\"]].dropna()\n",
    "crash_df2.HAR.sum()"
   ]
  },
  {
   "cell_type": "code",
   "execution_count": 15,
   "id": "38cb7634",
   "metadata": {},
   "outputs": [],
   "source": [
    "X_train, y_train, X_val, y_val, X_test, y_test = train_valid_test_split(crash_df2, target = 'HAR', \n",
    "                                                                train_size=0.6, valid_size=0.2, test_size=0.2)"
   ]
  },
  {
   "cell_type": "code",
   "execution_count": null,
   "id": "50525fef",
   "metadata": {},
   "outputs": [],
   "source": []
  },
  {
   "cell_type": "markdown",
   "id": "c43edccc",
   "metadata": {},
   "source": [
    "First we'll train a simple Decision tree on a few features"
   ]
  },
  {
   "cell_type": "code",
   "execution_count": null,
   "id": "faf1ea0e",
   "metadata": {},
   "outputs": [],
   "source": []
  },
  {
   "cell_type": "code",
   "execution_count": 16,
   "id": "d7dc0e35",
   "metadata": {},
   "outputs": [
    {
     "data": {
      "text/plain": [
       "DecisionTreeClassifier(ccp_alpha=0.01)"
      ]
     },
     "execution_count": 16,
     "metadata": {},
     "output_type": "execute_result"
    }
   ],
   "source": [
    "class_tree = DecisionTreeClassifier(ccp_alpha=.01)\n",
    "class_tree.fit(X_train, y_train)"
   ]
  },
  {
   "cell_type": "code",
   "execution_count": 17,
   "id": "505273fd",
   "metadata": {},
   "outputs": [
    {
     "data": {
      "text/plain": [
       "0.7098511520897968"
      ]
     },
     "execution_count": 17,
     "metadata": {},
     "output_type": "execute_result"
    }
   ],
   "source": [
    "class_tree.score(X_val,y_val)"
   ]
  },
  {
   "cell_type": "code",
   "execution_count": 18,
   "id": "14a1ceff",
   "metadata": {},
   "outputs": [
    {
     "data": {
      "text/plain": [
       "array([0., 0., 0., 0., 0., 0., 0.])"
      ]
     },
     "execution_count": 18,
     "metadata": {},
     "output_type": "execute_result"
    }
   ],
   "source": [
    "class_tree.feature_importances_"
   ]
  },
  {
   "cell_type": "markdown",
   "id": "6ed73e80",
   "metadata": {},
   "source": [
    "The most important features are\n",
    "\n",
    "- The location\n",
    "- The month\n",
    "- And the hour"
   ]
  },
  {
   "cell_type": "code",
   "execution_count": null,
   "id": "e0e25406",
   "metadata": {},
   "outputs": [],
   "source": []
  },
  {
   "cell_type": "code",
   "execution_count": null,
   "id": "1cc4a0df",
   "metadata": {},
   "outputs": [],
   "source": []
  },
  {
   "cell_type": "code",
   "execution_count": null,
   "id": "83f28530",
   "metadata": {},
   "outputs": [],
   "source": []
  },
  {
   "cell_type": "markdown",
   "id": "fcc62a26",
   "metadata": {},
   "source": [
    "Here we create some figures"
   ]
  },
  {
   "cell_type": "code",
   "execution_count": 19,
   "id": "7c749bbb",
   "metadata": {},
   "outputs": [],
   "source": [
    "hour_info = crash_df[[\"HAR\",\"CRASH_HOUR\",\"CRASH_RECORD_ID\"]].groupby([\"HAR\", \"CRASH_HOUR\"]).count()"
   ]
  },
  {
   "cell_type": "code",
   "execution_count": 20,
   "id": "f1acbd78",
   "metadata": {},
   "outputs": [],
   "source": [
    "all_hour_counts = crash_df.CRASH_HOUR.value_counts()\n",
    "har_hour_counts = crash_df[crash_df.HAR== 1].CRASH_HOUR.value_counts()"
   ]
  },
  {
   "cell_type": "code",
   "execution_count": 21,
   "id": "8a97b4d5",
   "metadata": {},
   "outputs": [],
   "source": [
    "all_hour_per = all_hour_counts/crash_df.shape[0]\n",
    "har_hour_per = har_hour_counts/crash_df[crash_df.HAR== 1].shape[0]"
   ]
  },
  {
   "cell_type": "code",
   "execution_count": 22,
   "id": "ca3a27d0",
   "metadata": {},
   "outputs": [],
   "source": [
    "all_hour_per.sort_index(inplace = True)"
   ]
  },
  {
   "cell_type": "code",
   "execution_count": 23,
   "id": "73339932",
   "metadata": {},
   "outputs": [],
   "source": [
    "har_hour_per.sort_index(inplace = True)"
   ]
  },
  {
   "cell_type": "code",
   "execution_count": 24,
   "id": "fd02c7f1",
   "metadata": {},
   "outputs": [],
   "source": [
    "x = har_hour_per.index\n",
    "y1 = all_hour_per\n",
    "y2 = har_hour_per"
   ]
  },
  {
   "cell_type": "code",
   "execution_count": 26,
   "id": "f0a7477b",
   "metadata": {},
   "outputs": [
    {
     "data": {
      "image/png": "[encoded data removed]",
      "text/plain": [
       "<Figure size 432x288 with 1 Axes>"
      ]
     },
     "metadata": {
      "needs_background": "light"
     },
     "output_type": "display_data"
    }
   ],
   "source": [
    "plt.title(\"Percentage of crashes by hour\")\n",
    "plt.xlabel(\"Hour\")\n",
    "plt.ylabel(\"Percentage of crashes\")\n",
    "\n",
    "plt.plot(x, y1, label=\"All crashes\")\n",
    "plt.plot(x, y2, label=\"Hit and runs\")\n",
    "plt.legend()\n",
    "\n",
    "plt.savefig(\"crash_by_hour.png\", dpi=900,bbox_inches=\"tight\")"
   ]
  },
  {
   "cell_type": "code",
   "execution_count": null,
   "id": "6944a674",
   "metadata": {},
   "outputs": [],
   "source": []
  },
  {
   "cell_type": "markdown",
   "id": "e948ca75",
   "metadata": {},
   "source": [
    "Let's clean-up and dummify our features. Making sure we don't include any N/A or unknown values.\n",
    "\n",
    "Starting with Lighting condition"
   ]
  },
  {
   "cell_type": "code",
   "execution_count": 27,
   "id": "e9d38601",
   "metadata": {},
   "outputs": [
    {
     "data": {
      "text/plain": [
       "DAYLIGHT                  373203\n",
       "DARKNESS, LIGHTED ROAD    126323\n",
       "DARKNESS                   28434\n",
       "UNKNOWN                    21963\n",
       "DUSK                       17342\n",
       "DAWN                        9879\n",
       "Name: LIGHTING_CONDITION, dtype: int64"
      ]
     },
     "execution_count": 27,
     "metadata": {},
     "output_type": "execute_result"
    }
   ],
   "source": [
    "crash_df.LIGHTING_CONDITION.value_counts()"
   ]
  },
  {
   "cell_type": "markdown",
   "id": "8483fa6c",
   "metadata": {},
   "source": [
    "Create a feature called DARK that is 1 if it is DARKNESS (with or without road lighing)"
   ]
  },
  {
   "cell_type": "code",
   "execution_count": 28,
   "id": "85121c69",
   "metadata": {},
   "outputs": [],
   "source": [
    "crash_df[\"DARK\"] = crash_df.LIGHTING_CONDITION.apply(lambda x: 1 if \"DARKNESS\" in x else 0)"
   ]
  },
  {
   "cell_type": "code",
   "execution_count": 29,
   "id": "9a6e8e51",
   "metadata": {},
   "outputs": [
    {
     "data": {
      "text/plain": [
       "0    422387\n",
       "1    154757\n",
       "Name: DARK, dtype: int64"
      ]
     },
     "execution_count": 29,
     "metadata": {},
     "output_type": "execute_result"
    }
   ],
   "source": [
    "crash_df.DARK.value_counts()"
   ]
  },
  {
   "cell_type": "markdown",
   "id": "58e37e5f",
   "metadata": {},
   "source": [
    "Next up - Weather condition"
   ]
  },
  {
   "cell_type": "code",
   "execution_count": 30,
   "id": "a2edc2b0",
   "metadata": {},
   "outputs": [
    {
     "data": {
      "text/plain": [
       "CLEAR                       458138\n",
       "RAIN                         50379\n",
       "UNKNOWN                      26149\n",
       "SNOW                         20846\n",
       "CLOUDY/OVERCAST              17137\n",
       "OTHER                         1766\n",
       "FOG/SMOKE/HAZE                 882\n",
       "FREEZING RAIN/DRIZZLE          787\n",
       "SLEET/HAIL                     752\n",
       "BLOWING SNOW                   186\n",
       "SEVERE CROSS WIND GATE         120\n",
       "BLOWING SAND, SOIL, DIRT         2\n",
       "Name: WEATHER_CONDITION, dtype: int64"
      ]
     },
     "execution_count": 30,
     "metadata": {},
     "output_type": "execute_result"
    }
   ],
   "source": [
    "crash_df.WEATHER_CONDITION.value_counts()"
   ]
  },
  {
   "cell_type": "code",
   "execution_count": 31,
   "id": "bbba275d",
   "metadata": {},
   "outputs": [],
   "source": [
    "crash_df[\"VIS_WEATHER\"] = crash_df.WEATHER_CONDITION.apply(lambda x: 0 if \n",
    "                                                           x == \"CLEAR\" or x == \"UNKNOWN\" \n",
    "                                                           or x == \"OTHER\" or x == \"CLOUDY/OVERCAST\"\n",
    "                                                          else 1)"
   ]
  },
  {
   "cell_type": "code",
   "execution_count": 32,
   "id": "df4d5fb1",
   "metadata": {},
   "outputs": [
    {
     "data": {
      "text/plain": [
       "0    503190\n",
       "1     73954\n",
       "Name: VIS_WEATHER, dtype: int64"
      ]
     },
     "execution_count": 32,
     "metadata": {},
     "output_type": "execute_result"
    }
   ],
   "source": [
    "crash_df.VIS_WEATHER.value_counts()"
   ]
  },
  {
   "cell_type": "code",
   "execution_count": 33,
   "id": "66ab5883",
   "metadata": {},
   "outputs": [],
   "source": [
    "crash_df[\"OVERCAST\"] = crash_df.WEATHER_CONDITION.apply(lambda x: 1 if \n",
    "                                                           x == \"CLOUDY/OVERCAST\"\n",
    "                                                          else 0)"
   ]
  },
  {
   "cell_type": "code",
   "execution_count": 34,
   "id": "08af2582",
   "metadata": {},
   "outputs": [
    {
     "data": {
      "text/plain": [
       "0    560007\n",
       "1     17137\n",
       "Name: OVERCAST, dtype: int64"
      ]
     },
     "execution_count": 34,
     "metadata": {},
     "output_type": "execute_result"
    }
   ],
   "source": [
    "crash_df.OVERCAST.value_counts()"
   ]
  },
  {
   "cell_type": "markdown",
   "id": "64747dd1",
   "metadata": {},
   "source": [
    "For traffic control, just group no control and everything else"
   ]
  },
  {
   "cell_type": "code",
   "execution_count": 35,
   "id": "2bf3d55b",
   "metadata": {},
   "outputs": [
    {
     "data": {
      "text/plain": [
       "NO CONTROLS                 332071\n",
       "TRAFFIC SIGNAL              160234\n",
       "STOP SIGN/FLASHER            57437\n",
       "UNKNOWN                      19012\n",
       "OTHER                         3545\n",
       "LANE USE MARKING              1226\n",
       "YIELD                          814\n",
       "OTHER REG. SIGN                595\n",
       "OTHER WARNING SIGN             521\n",
       "RAILROAD CROSSING GATE         381\n",
       "PEDESTRIAN CROSSING SIGN       283\n",
       "POLICE/FLAGMAN                 207\n",
       "DELINEATORS                    194\n",
       "SCHOOL ZONE                    191\n",
       "FLASHING CONTROL SIGNAL        185\n",
       "OTHER RAILROAD CROSSING        138\n",
       "RR CROSSING SIGN                67\n",
       "NO PASSING                      26\n",
       "BICYCLE CROSSING SIGN           17\n",
       "Name: TRAFFIC_CONTROL_DEVICE, dtype: int64"
      ]
     },
     "execution_count": 35,
     "metadata": {},
     "output_type": "execute_result"
    }
   ],
   "source": [
    "crash_df.TRAFFIC_CONTROL_DEVICE.value_counts()"
   ]
  },
  {
   "cell_type": "code",
   "execution_count": 36,
   "id": "3fe0c55a",
   "metadata": {},
   "outputs": [],
   "source": [
    "crash_df[\"NO_TRAFFIC_CONTROL\"] = crash_df.TRAFFIC_CONTROL_DEVICE.apply(lambda x: 1 \n",
    "                                                                       if x == \"NO CONTROLS\" or x == \"UNKNOWN\"\n",
    "                                                                       else 0)"
   ]
  },
  {
   "cell_type": "code",
   "execution_count": 37,
   "id": "8488572c",
   "metadata": {},
   "outputs": [
    {
     "data": {
      "text/plain": [
       "1    351083\n",
       "0    226061\n",
       "Name: NO_TRAFFIC_CONTROL, dtype: int64"
      ]
     },
     "execution_count": 37,
     "metadata": {},
     "output_type": "execute_result"
    }
   ],
   "source": [
    "crash_df.NO_TRAFFIC_CONTROL.value_counts()"
   ]
  },
  {
   "cell_type": "code",
   "execution_count": 38,
   "id": "57c0a1fb",
   "metadata": {},
   "outputs": [
    {
     "data": {
      "text/plain": [
       "Y    2827\n",
       "N     754\n",
       "Name: WORK_ZONE_I, dtype: int64"
      ]
     },
     "execution_count": 38,
     "metadata": {},
     "output_type": "execute_result"
    }
   ],
   "source": [
    "crash_df.WORK_ZONE_I.value_counts()"
   ]
  },
  {
   "cell_type": "markdown",
   "id": "645216d0",
   "metadata": {},
   "source": [
    "For work zone, map all nulls to N"
   ]
  },
  {
   "cell_type": "code",
   "execution_count": 39,
   "id": "ad05b6f6",
   "metadata": {},
   "outputs": [],
   "source": [
    "crash_df[\"WORK_ZONE\"] = crash_df.WORK_ZONE_I.apply(lambda x: 1 if x == \"Y\" else 0)"
   ]
  },
  {
   "cell_type": "code",
   "execution_count": 40,
   "id": "dc138737",
   "metadata": {},
   "outputs": [
    {
     "data": {
      "text/plain": [
       "0    574317\n",
       "1      2827\n",
       "Name: WORK_ZONE, dtype: int64"
      ]
     },
     "execution_count": 40,
     "metadata": {},
     "output_type": "execute_result"
    }
   ],
   "source": [
    "crash_df.WORK_ZONE.value_counts()"
   ]
  },
  {
   "cell_type": "code",
   "execution_count": 41,
   "id": "fbb5e5f5",
   "metadata": {},
   "outputs": [
    {
     "data": {
      "text/plain": [
       "NOT DIVIDED                        255381\n",
       "DIVIDED - W/MEDIAN (NOT RAISED)     98774\n",
       "ONE-WAY                             75983\n",
       "PARKING LOT                         40289\n",
       "DIVIDED - W/MEDIAN BARRIER          34055\n",
       "FOUR WAY                            23872\n",
       "OTHER                               16091\n",
       "ALLEY                                9466\n",
       "UNKNOWN                              6376\n",
       "T-INTERSECTION                       5081\n",
       "CENTER TURN LANE                     4623\n",
       "DRIVEWAY                             1969\n",
       "RAMP                                 1819\n",
       "UNKNOWN INTERSECTION TYPE            1314\n",
       "Y-INTERSECTION                        583\n",
       "FIVE POINT, OR MORE                   582\n",
       "TRAFFIC ROUTE                         443\n",
       "NOT REPORTED                          220\n",
       "ROUNDABOUT                            141\n",
       "L-INTERSECTION                         82\n",
       "Name: TRAFFICWAY_TYPE, dtype: int64"
      ]
     },
     "execution_count": 41,
     "metadata": {},
     "output_type": "execute_result"
    }
   ],
   "source": [
    "crash_df.TRAFFICWAY_TYPE.value_counts()"
   ]
  },
  {
   "cell_type": "markdown",
   "id": "e3c500ee",
   "metadata": {},
   "source": [
    "There's a lot of information here, but it's hard to parse out. Let's leave it for now"
   ]
  },
  {
   "cell_type": "code",
   "execution_count": 42,
   "id": "d489f16e",
   "metadata": {},
   "outputs": [],
   "source": [
    "#crash_df[\"UNDIVIDED\"] = crash_df.apply(lambda x: 1 if x in [\"NOT DIVIDED\", \"OTHER\", \n",
    "#                                                            \"UNKNOWN\", \"UNKNOWN INTERSECTION TYPE\",\n",
    "#                                                           \"NOT REPORTED\"])"
   ]
  },
  {
   "cell_type": "code",
   "execution_count": 43,
   "id": "a880f241",
   "metadata": {},
   "outputs": [
    {
     "data": {
      "text/plain": [
       "DRY                433606\n",
       "WET                 76904\n",
       "UNKNOWN             39902\n",
       "SNOW OR SLUSH       20914\n",
       "ICE                  4177\n",
       "OTHER                1397\n",
       "SAND, MUD, DIRT       244\n",
       "Name: ROADWAY_SURFACE_COND, dtype: int64"
      ]
     },
     "execution_count": 43,
     "metadata": {},
     "output_type": "execute_result"
    }
   ],
   "source": [
    "crash_df.ROADWAY_SURFACE_COND.value_counts()"
   ]
  },
  {
   "cell_type": "raw",
   "id": "c4c4ff81",
   "metadata": {},
   "source": [
    "For ROADWAY_SURFACE_COND, group DRY, UNKNOWN, and OTHER as DRY versus everything else"
   ]
  },
  {
   "cell_type": "code",
   "execution_count": 44,
   "id": "fcf6140c",
   "metadata": {},
   "outputs": [],
   "source": [
    "crash_df[\"DRY\"] = crash_df.ROADWAY_SURFACE_COND.apply(lambda x: 1 if x in [\"DRY\", \"UNKNOWN\",\"OTHER\"] else 0)"
   ]
  },
  {
   "cell_type": "code",
   "execution_count": 45,
   "id": "77384be5",
   "metadata": {},
   "outputs": [
    {
     "data": {
      "text/plain": [
       "1    474905\n",
       "0    102239\n",
       "Name: DRY, dtype: int64"
      ]
     },
     "execution_count": 45,
     "metadata": {},
     "output_type": "execute_result"
    }
   ],
   "source": [
    "crash_df.DRY.value_counts()"
   ]
  },
  {
   "cell_type": "markdown",
   "id": "50f860c7",
   "metadata": {},
   "source": [
    "We've picked out some features. Let's train some models."
   ]
  },
  {
   "cell_type": "code",
   "execution_count": 46,
   "id": "49a32108",
   "metadata": {},
   "outputs": [],
   "source": [
    "features = [\"POSTED_SPEED_LIMIT\",\n",
    "            \"BEAT_OF_OCCURRENCE\",\"CRASH_HOUR\",\"CRASH_DAY_OF_WEEK\",\n",
    "            \"CRASH_MONTH\",\"LATITUDE\",\"LONGITUDE\", \"DARK\", \"VIS_WEATHER\",\"OVERCAST\",\"NO_TRAFFIC_CONTROL\",\n",
    "           \"WORK_ZONE\",\"DRY\"]\n",
    "\n",
    "crash_df3 = crash_df[features+[\"HAR\"]].dropna()\n",
    "\n",
    "X_train, y_train, X_val, y_val, X_test, y_test = train_valid_test_split(crash_df3, target = 'HAR', \n",
    "                                                                train_size=0.6, valid_size=0.2, test_size=0.2)"
   ]
  },
  {
   "cell_type": "code",
   "execution_count": 47,
   "id": "3d81acc8",
   "metadata": {},
   "outputs": [],
   "source": [
    "model_dict = {}"
   ]
  },
  {
   "cell_type": "code",
   "execution_count": 48,
   "id": "16cbcc31",
   "metadata": {},
   "outputs": [],
   "source": [
    "#Train Random forest\n",
    "rand_forest = RandomForestClassifier(class_weight=\"balanced\")\n",
    "rand_forest.fit(X_train, y_train)\n",
    "\n",
    "model_dict[\"Random Forest\"] = rand_forest\n",
    "\n"
   ]
  },
  {
   "cell_type": "code",
   "execution_count": 50,
   "id": "6858c8dc",
   "metadata": {},
   "outputs": [
    {
     "data": {
      "text/plain": [
       "0.24286061355655186"
      ]
     },
     "execution_count": 50,
     "metadata": {},
     "output_type": "execute_result"
    }
   ],
   "source": [
    "y_pred = rand_forest.predict(X_val)\n",
    "metrics.f1_score(y_val,y_pred)"
   ]
  },
  {
   "cell_type": "code",
   "execution_count": 51,
   "id": "8750bd6a",
   "metadata": {},
   "outputs": [
    {
     "data": {
      "text/plain": [
       "0.445540280984958"
      ]
     },
     "execution_count": 51,
     "metadata": {},
     "output_type": "execute_result"
    }
   ],
   "source": [
    "#Train Logistic regression\n",
    "log_reg = LogisticRegression(class_weight=\"balanced\")\n",
    "log_reg.fit(X_train, y_train)\n",
    "\n",
    "model_dict[\"Logistic Regression\"] = log_reg\n",
    "\n",
    "y_pred = log_reg.predict(X_val)\n",
    "\n",
    "metrics.f1_score(y_val,y_pred)"
   ]
  },
  {
   "cell_type": "code",
   "execution_count": 52,
   "id": "d775b89d",
   "metadata": {},
   "outputs": [
    {
     "data": {
      "text/plain": [
       "0.2563553090465986"
      ]
     },
     "execution_count": 52,
     "metadata": {},
     "output_type": "execute_result"
    }
   ],
   "source": [
    "#Train Extremely Random forest\n",
    "extra_trees = ExtraTreesClassifier(class_weight=\"balanced\")\n",
    "extra_trees.fit(X_test, y_test)\n",
    "\n",
    "model_dict[\"Extremely Random Trees\"] = extra_trees\n",
    "\n",
    "y_pred = extra_trees.predict(X_val)\n",
    "metrics.f1_score(y_val,y_pred)"
   ]
  },
  {
   "cell_type": "code",
   "execution_count": 55,
   "id": "70aa74f9",
   "metadata": {},
   "outputs": [
    {
     "name": "stdout",
     "output_type": "stream",
     "text": [
      "[19:48:42] WARNING: /Users/runner/miniforge3/conda-bld/xgboost-split_1637426408905/work/src/learner.cc:1115: Starting in XGBoost 1.3.0, the default evaluation metric used with the objective 'binary:logistic' was changed from 'error' to 'logloss'. Explicitly set eval_metric if you'd like to restore the old behavior.\n"
     ]
    },
    {
     "data": {
      "text/plain": [
       "0.21533161068044793"
      ]
     },
     "execution_count": 55,
     "metadata": {},
     "output_type": "execute_result"
    }
   ],
   "source": [
    "#Train XGBoost\n",
    "\n",
    "xgboost = XGBClassifier()\n",
    "xgboost.fit(X_test, y_test)\n",
    "\n",
    "model_dict[\"XGBoosting\"] = xgboost\n",
    "\n",
    "y_pred = xgboost.predict(X_val)\n",
    "metrics.f1_score(y_val,y_pred)"
   ]
  },
  {
   "cell_type": "code",
   "execution_count": 56,
   "id": "bba58d4f",
   "metadata": {},
   "outputs": [
    {
     "data": {
      "text/plain": [
       "0.17843513712105052"
      ]
     },
     "execution_count": 56,
     "metadata": {},
     "output_type": "execute_result"
    }
   ],
   "source": [
    "#Train KNN\n",
    "\n",
    "knn = KNeighborsClassifier(n_neighbors=19)\n",
    "knn.fit(X_test, y_test)\n",
    "\n",
    "model_dict[\"KNN\"] = knn\n",
    "\n",
    "y_pred = knn.predict(X_val)\n",
    "metrics.f1_score(y_val,y_pred)"
   ]
  },
  {
   "cell_type": "code",
   "execution_count": 105,
   "id": "54c6c6a4",
   "metadata": {},
   "outputs": [
    {
     "data": {
      "text/plain": [
       "0.0"
      ]
     },
     "execution_count": 105,
     "metadata": {},
     "output_type": "execute_result"
    }
   ],
   "source": [
    "binary_features = [ \"DARK\", \"VIS_WEATHER\",\"OVERCAST\",\"NO_TRAFFIC_CONTROL\",\"WORK_ZONE\",\"DRY\"]\n",
    "\n",
    "naive_bayes = BernoulliNB()\n",
    "naive_bayes.fit(X_test[binary_features],y_test)\n",
    "\n",
    "model_dict[\"Naive Bayes\"] = naive_bayes\n",
    "\n",
    "y_pred = naive_bayes.predict(X_val[binary_features])\n",
    "\n",
    "metrics.f1_score(y_val,y_pred)"
   ]
  },
  {
   "cell_type": "code",
   "execution_count": 92,
   "id": "fa6a3efe",
   "metadata": {},
   "outputs": [
    {
     "data": {
      "image/png": "[encoded data removed]",
      "text/plain": [
       "<Figure size 432x288 with 1 Axes>"
      ]
     },
     "metadata": {
      "needs_background": "light"
     },
     "output_type": "display_data"
    }
   ],
   "source": [
    "auc_dict = {}\n",
    "\n",
    "for model_name, model in model_dict.items():\n",
    "    if model_name == \"Naive Bayes\":\n",
    "        continue\n",
    "\n",
    "    probs = model.predict_proba(X_val)\n",
    "    preds = probs[:,1]\n",
    "    fpr, tpr, threshold = metrics.roc_curve(y_val, preds)\n",
    "    roc_auc = metrics.auc(fpr, tpr)\n",
    "    auc_dict[model_name] = roc_auc\n",
    "    plt.plot(fpr, tpr, label = model_name)# + ' AUC = %0.2f' % roc_auc)\n",
    "\n",
    "#Plot ROC Curve\n",
    "plt.title('Receiver Operating Characteristic')\n",
    "plt.legend(loc = 'lower right')\n",
    "plt.plot([0, 1], [0, 1],'r--')\n",
    "plt.xlim([0, 1])\n",
    "plt.ylim([0, 1])\n",
    "plt.ylabel('True Positive Rate')\n",
    "plt.xlabel('False Positive Rate')\n",
    "\n",
    "plt.savefig(\"model_comparison.png\", dpi=900,bbox_inches=\"tight\")"
   ]
  },
  {
   "cell_type": "code",
   "execution_count": null,
   "id": "9f204919",
   "metadata": {},
   "outputs": [],
   "source": []
  },
  {
   "cell_type": "code",
   "execution_count": 58,
   "id": "07ccb68a",
   "metadata": {},
   "outputs": [
    {
     "data": {
      "text/plain": [
       "{'Random Forest': 0.6184791846455395,\n",
       " 'Logistic Regression': 0.5993552191337106,\n",
       " 'Extremely Random Trees': 0.6010118568151196,\n",
       " 'XGBoosting': 0.6460464352864186,\n",
       " 'KNN': 0.5926010480003984}"
      ]
     },
     "execution_count": 58,
     "metadata": {},
     "output_type": "execute_result"
    }
   ],
   "source": [
    "auc_dict"
   ]
  },
  {
   "cell_type": "markdown",
   "id": "7e27378d",
   "metadata": {},
   "source": [
    "Let's now tune the hyperparameters for the best performing algorithm, XGBoost\n",
    "\n",
    "Ideally, we would do this for all algorithms, but for the sake of time, we'll just do XGBoost"
   ]
  },
  {
   "cell_type": "code",
   "execution_count": 148,
   "id": "5eac89ad",
   "metadata": {},
   "outputs": [
    {
     "name": "stdout",
     "output_type": "stream",
     "text": [
      "a:0.01 f1:0.14544979079497905 AUC:0.6362756841144569\n",
      "a:0.02 f1:0.1402556331532481 AUC:0.6428707907282831\n",
      "a:0.03 f1:0.14517483986138824 AUC:0.6462821590372829\n",
      "a:0.04 f1:0.15271154196961406 AUC:0.6479654390327503\n",
      "a:0.05 f1:0.16122533319557805 AUC:0.649089073016563\n",
      "a:0.060000000000000005 f1:0.1680207078602732 AUC:0.6498361332433608\n",
      "a:0.06999999999999999 f1:0.17473255221599593 AUC:0.6506598794076806\n",
      "a:0.08 f1:0.17604148133085937 AUC:0.6507140480529136\n",
      "a:0.09 f1:0.1834061135371179 AUC:0.6510470852974588\n",
      "a:0.09999999999999999 f1:0.18399375267652468 AUC:0.6507531820339417\n",
      "a:0.11 f1:0.18432368546785025 AUC:0.6507081708308495\n",
      "a:0.12 f1:0.19050477762769524 AUC:0.651045027542517\n",
      "a:0.13 f1:0.18716791979949873 AUC:0.6509406477988195\n",
      "a:0.14 f1:0.1925634448235499 AUC:0.6510965445062228\n",
      "a:0.15000000000000002 f1:0.19617569008705144 AUC:0.6505263959725666\n",
      "a:0.16 f1:0.197880558581757 AUC:0.6518739413836253\n",
      "a:0.17 f1:0.2048121777559538 AUC:0.6502097924152022\n",
      "a:0.18000000000000002 f1:0.20233022144493434 AUC:0.6508850849173715\n",
      "a:0.19 f1:0.19788247488832397 AUC:0.6497069306454933\n",
      "a:0.2 f1:0.20645351118085525 AUC:0.6500120054729248\n",
      "a:0.21000000000000002 f1:0.20685260526444785 AUC:0.6501884123468794\n",
      "a:0.22 f1:0.2057637310258855 AUC:0.6488836285453158\n",
      "a:0.23 f1:0.21026930683399664 AUC:0.6493997036166419\n",
      "a:0.24000000000000002 f1:0.21277733226410053 AUC:0.648618460392613\n",
      "a:0.25 f1:0.21140817367232462 AUC:0.6485233034487555\n",
      "a:0.26 f1:0.2121983751667273 AUC:0.6479148245576124\n",
      "a:0.27 f1:0.21446492328476308 AUC:0.6486599560879108\n",
      "a:0.28 f1:0.21520179697123396 AUC:0.6479233646916812\n",
      "a:0.29000000000000004 f1:0.21152821506418018 AUC:0.6471836375987379\n",
      "a:0.3 f1:0.2171574042941544 AUC:0.6470529411632041\n",
      "a:0.31 f1:0.21607605877268796 AUC:0.6461766879120614\n",
      "a:0.32 f1:0.21825140533429016 AUC:0.644637710168153\n",
      "a:0.33 f1:0.21827047181987666 AUC:0.644551045858966\n",
      "a:0.34 f1:0.22428574821288622 AUC:0.6458874911393141\n",
      "a:0.35000000000000003 f1:0.22882355717049688 AUC:0.6446568358561174\n",
      "a:0.36000000000000004 f1:0.22433315961529351 AUC:0.6431263393322956\n",
      "a:0.37 f1:0.2244360634739913 AUC:0.6442385741969369\n",
      "a:0.38 f1:0.23254171864334972 AUC:0.6435728327559533\n",
      "a:0.39 f1:0.2300506947052197 AUC:0.6426367263966998\n"
     ]
    }
   ],
   "source": [
    "#Compare eta (learning rate) scores\n",
    "eta_scores = {}\n",
    "alphas = np.arange(.01,.4,.01)\n",
    "\n",
    "\n",
    "for a in alphas:\n",
    "    xgboost = XGBClassifier(eta = a, eval_metric = \"logloss\")\n",
    "    xgboost.fit(X_test, y_test)\n",
    "    y_pred = xgboost.predict(X_val)\n",
    "    probs = xgboost.predict_proba(X_val)\n",
    "    preds = probs[:,1]\n",
    "    fpr, tpr, threshold = metrics.roc_curve(y_val, preds)\n",
    "    roc_auc = metrics.auc(fpr, tpr)\n",
    "    f1 = metrics.f1_score(y_val,y_pred)\n",
    "    eta_scores[a] = (f1, roc_auc)\n",
    "    \n",
    "    print(\"a:{A} f1:{F1} AUC:{auc}\".format(A=a,F1=f1,auc=roc_auc))"
   ]
  },
  {
   "cell_type": "markdown",
   "id": "f37a7030",
   "metadata": {},
   "source": [
    "A learning rate of .16 wins"
   ]
  },
  {
   "cell_type": "code",
   "execution_count": 154,
   "id": "b36b6627",
   "metadata": {},
   "outputs": [
    {
     "name": "stdout",
     "output_type": "stream",
     "text": [
      "Fitting 5 folds for each of 30 candidates, totalling 150 fits\n",
      "[CV] END colsample_bytree=0.3, learning_rate=0.01, max_depth=3, n_estimators=100; total time=   2.3s\n",
      "[CV] END colsample_bytree=0.3, learning_rate=0.01, max_depth=3, n_estimators=100; total time=   2.3s\n",
      "[CV] END colsample_bytree=0.3, learning_rate=0.01, max_depth=3, n_estimators=100; total time=   2.3s\n",
      "[CV] END colsample_bytree=0.3, learning_rate=0.01, max_depth=3, n_estimators=100; total time=   2.3s\n",
      "[CV] END colsample_bytree=0.3, learning_rate=0.01, max_depth=3, n_estimators=100; total time=   2.4s\n",
      "[CV] END colsample_bytree=0.3, learning_rate=0.01, max_depth=6, n_estimators=100; total time=   4.4s\n",
      "[CV] END colsample_bytree=0.3, learning_rate=0.01, max_depth=6, n_estimators=100; total time=   4.5s\n",
      "[CV] END colsample_bytree=0.3, learning_rate=0.01, max_depth=6, n_estimators=100; total time=   4.5s\n",
      "[CV] END colsample_bytree=0.3, learning_rate=0.01, max_depth=6, n_estimators=100; total time=   4.6s\n",
      "[CV] END colsample_bytree=0.3, learning_rate=0.01, max_depth=6, n_estimators=100; total time=   4.6s\n",
      "[CV] END colsample_bytree=0.3, learning_rate=0.01, max_depth=10, n_estimators=100; total time=   7.4s\n",
      "[CV] END colsample_bytree=0.3, learning_rate=0.01, max_depth=10, n_estimators=100; total time=   7.5s\n",
      "[CV] END colsample_bytree=0.3, learning_rate=0.01, max_depth=10, n_estimators=100; total time=   7.5s\n",
      "[CV] END colsample_bytree=0.3, learning_rate=0.01, max_depth=10, n_estimators=100; total time=   7.5s\n",
      "[CV] END colsample_bytree=0.3, learning_rate=0.01, max_depth=10, n_estimators=100; total time=   7.5s\n",
      "[CV] END colsample_bytree=0.3, learning_rate=0.05, max_depth=3, n_estimators=100; total time=   2.6s\n",
      "[CV] END colsample_bytree=0.3, learning_rate=0.05, max_depth=3, n_estimators=100; total time=   2.5s\n",
      "[CV] END colsample_bytree=0.3, learning_rate=0.05, max_depth=3, n_estimators=100; total time=   2.5s\n",
      "[CV] END colsample_bytree=0.3, learning_rate=0.05, max_depth=3, n_estimators=100; total time=   2.5s\n",
      "[CV] END colsample_bytree=0.3, learning_rate=0.05, max_depth=3, n_estimators=100; total time=   2.5s\n",
      "[CV] END colsample_bytree=0.3, learning_rate=0.05, max_depth=6, n_estimators=100; total time=   4.8s\n",
      "[CV] END colsample_bytree=0.3, learning_rate=0.05, max_depth=6, n_estimators=100; total time=   4.8s\n",
      "[CV] END colsample_bytree=0.3, learning_rate=0.05, max_depth=6, n_estimators=100; total time=   4.8s\n",
      "[CV] END colsample_bytree=0.3, learning_rate=0.05, max_depth=6, n_estimators=100; total time=   4.8s\n",
      "[CV] END colsample_bytree=0.3, learning_rate=0.05, max_depth=6, n_estimators=100; total time=   4.8s\n",
      "[CV] END colsample_bytree=0.3, learning_rate=0.05, max_depth=10, n_estimators=100; total time=   7.8s\n",
      "[CV] END colsample_bytree=0.3, learning_rate=0.05, max_depth=10, n_estimators=100; total time=   7.9s\n",
      "[CV] END colsample_bytree=0.3, learning_rate=0.05, max_depth=10, n_estimators=100; total time=   7.8s\n",
      "[CV] END colsample_bytree=0.3, learning_rate=0.05, max_depth=10, n_estimators=100; total time=   7.9s\n",
      "[CV] END colsample_bytree=0.3, learning_rate=0.05, max_depth=10, n_estimators=100; total time=   7.9s\n",
      "[CV] END colsample_bytree=0.3, learning_rate=0.1, max_depth=3, n_estimators=100; total time=   2.6s\n",
      "[CV] END colsample_bytree=0.3, learning_rate=0.1, max_depth=3, n_estimators=100; total time=   2.6s\n",
      "[CV] END colsample_bytree=0.3, learning_rate=0.1, max_depth=3, n_estimators=100; total time=   2.6s\n",
      "[CV] END colsample_bytree=0.3, learning_rate=0.1, max_depth=3, n_estimators=100; total time=   2.6s\n",
      "[CV] END colsample_bytree=0.3, learning_rate=0.1, max_depth=3, n_estimators=100; total time=   2.6s\n",
      "[CV] END colsample_bytree=0.3, learning_rate=0.1, max_depth=6, n_estimators=100; total time=   4.8s\n",
      "[CV] END colsample_bytree=0.3, learning_rate=0.1, max_depth=6, n_estimators=100; total time=   4.9s\n",
      "[CV] END colsample_bytree=0.3, learning_rate=0.1, max_depth=6, n_estimators=100; total time=   4.8s\n",
      "[CV] END colsample_bytree=0.3, learning_rate=0.1, max_depth=6, n_estimators=100; total time=   4.8s\n",
      "[CV] END colsample_bytree=0.3, learning_rate=0.1, max_depth=6, n_estimators=100; total time=   4.8s\n",
      "[CV] END colsample_bytree=0.3, learning_rate=0.1, max_depth=10, n_estimators=100; total time=   7.8s\n",
      "[CV] END colsample_bytree=0.3, learning_rate=0.1, max_depth=10, n_estimators=100; total time=   7.8s\n",
      "[CV] END colsample_bytree=0.3, learning_rate=0.1, max_depth=10, n_estimators=100; total time=   8.0s\n",
      "[CV] END colsample_bytree=0.3, learning_rate=0.1, max_depth=10, n_estimators=100; total time=   7.9s\n",
      "[CV] END colsample_bytree=0.3, learning_rate=0.1, max_depth=10, n_estimators=100; total time=   7.8s\n",
      "[CV] END colsample_bytree=0.3, learning_rate=0.16, max_depth=3, n_estimators=100; total time=   2.6s\n",
      "[CV] END colsample_bytree=0.3, learning_rate=0.16, max_depth=3, n_estimators=100; total time=   2.6s\n",
      "[CV] END colsample_bytree=0.3, learning_rate=0.16, max_depth=3, n_estimators=100; total time=   2.6s\n",
      "[CV] END colsample_bytree=0.3, learning_rate=0.16, max_depth=3, n_estimators=100; total time=   2.7s\n",
      "[CV] END colsample_bytree=0.3, learning_rate=0.16, max_depth=3, n_estimators=100; total time=   3.0s\n",
      "[CV] END colsample_bytree=0.3, learning_rate=0.16, max_depth=6, n_estimators=100; total time=   4.9s\n",
      "[CV] END colsample_bytree=0.3, learning_rate=0.16, max_depth=6, n_estimators=100; total time=   4.9s\n",
      "[CV] END colsample_bytree=0.3, learning_rate=0.16, max_depth=6, n_estimators=100; total time=   4.8s\n",
      "[CV] END colsample_bytree=0.3, learning_rate=0.16, max_depth=6, n_estimators=100; total time=   4.9s\n",
      "[CV] END colsample_bytree=0.3, learning_rate=0.16, max_depth=6, n_estimators=100; total time=   4.9s\n",
      "[CV] END colsample_bytree=0.3, learning_rate=0.16, max_depth=10, n_estimators=100; total time=   7.9s\n",
      "[CV] END colsample_bytree=0.3, learning_rate=0.16, max_depth=10, n_estimators=100; total time=   8.0s\n",
      "[CV] END colsample_bytree=0.3, learning_rate=0.16, max_depth=10, n_estimators=100; total time=   8.0s\n",
      "[CV] END colsample_bytree=0.3, learning_rate=0.16, max_depth=10, n_estimators=100; total time=   7.8s\n",
      "[CV] END colsample_bytree=0.3, learning_rate=0.16, max_depth=10, n_estimators=100; total time=   7.9s\n",
      "[CV] END colsample_bytree=0.3, learning_rate=0.2, max_depth=3, n_estimators=100; total time=   2.6s\n",
      "[CV] END colsample_bytree=0.3, learning_rate=0.2, max_depth=3, n_estimators=100; total time=   2.7s\n",
      "[CV] END colsample_bytree=0.3, learning_rate=0.2, max_depth=3, n_estimators=100; total time=   2.7s\n",
      "[CV] END colsample_bytree=0.3, learning_rate=0.2, max_depth=3, n_estimators=100; total time=   2.8s\n",
      "[CV] END colsample_bytree=0.3, learning_rate=0.2, max_depth=3, n_estimators=100; total time=   2.6s\n",
      "[CV] END colsample_bytree=0.3, learning_rate=0.2, max_depth=6, n_estimators=100; total time=   5.0s\n",
      "[CV] END colsample_bytree=0.3, learning_rate=0.2, max_depth=6, n_estimators=100; total time=   4.8s\n",
      "[CV] END colsample_bytree=0.3, learning_rate=0.2, max_depth=6, n_estimators=100; total time=   4.9s\n",
      "[CV] END colsample_bytree=0.3, learning_rate=0.2, max_depth=6, n_estimators=100; total time=   5.3s\n",
      "[CV] END colsample_bytree=0.3, learning_rate=0.2, max_depth=6, n_estimators=100; total time=   5.2s\n",
      "[CV] END colsample_bytree=0.3, learning_rate=0.2, max_depth=10, n_estimators=100; total time=   7.9s\n",
      "[CV] END colsample_bytree=0.3, learning_rate=0.2, max_depth=10, n_estimators=100; total time=   8.0s\n",
      "[CV] END colsample_bytree=0.3, learning_rate=0.2, max_depth=10, n_estimators=100; total time=   8.1s\n",
      "[CV] END colsample_bytree=0.3, learning_rate=0.2, max_depth=10, n_estimators=100; total time=   7.8s\n",
      "[CV] END colsample_bytree=0.3, learning_rate=0.2, max_depth=10, n_estimators=100; total time=   7.8s\n",
      "[CV] END colsample_bytree=0.7, learning_rate=0.01, max_depth=3, n_estimators=100; total time=   3.9s\n",
      "[CV] END colsample_bytree=0.7, learning_rate=0.01, max_depth=3, n_estimators=100; total time=   4.0s\n",
      "[CV] END colsample_bytree=0.7, learning_rate=0.01, max_depth=3, n_estimators=100; total time=   4.0s\n",
      "[CV] END colsample_bytree=0.7, learning_rate=0.01, max_depth=3, n_estimators=100; total time=   4.0s\n",
      "[CV] END colsample_bytree=0.7, learning_rate=0.01, max_depth=3, n_estimators=100; total time=   4.0s\n",
      "[CV] END colsample_bytree=0.7, learning_rate=0.01, max_depth=6, n_estimators=100; total time=   8.4s\n"
     ]
    },
    {
     "name": "stdout",
     "output_type": "stream",
     "text": [
      "[CV] END colsample_bytree=0.7, learning_rate=0.01, max_depth=6, n_estimators=100; total time=   8.9s\n",
      "[CV] END colsample_bytree=0.7, learning_rate=0.01, max_depth=6, n_estimators=100; total time=   8.5s\n",
      "[CV] END colsample_bytree=0.7, learning_rate=0.01, max_depth=6, n_estimators=100; total time=   8.5s\n",
      "[CV] END colsample_bytree=0.7, learning_rate=0.01, max_depth=6, n_estimators=100; total time=   8.4s\n",
      "[CV] END colsample_bytree=0.7, learning_rate=0.01, max_depth=10, n_estimators=100; total time=  15.5s\n",
      "[CV] END colsample_bytree=0.7, learning_rate=0.01, max_depth=10, n_estimators=100; total time=  15.5s\n",
      "[CV] END colsample_bytree=0.7, learning_rate=0.01, max_depth=10, n_estimators=100; total time=  15.6s\n",
      "[CV] END colsample_bytree=0.7, learning_rate=0.01, max_depth=10, n_estimators=100; total time=  15.5s\n",
      "[CV] END colsample_bytree=0.7, learning_rate=0.01, max_depth=10, n_estimators=100; total time=  15.5s\n",
      "[CV] END colsample_bytree=0.7, learning_rate=0.05, max_depth=3, n_estimators=100; total time=   4.0s\n",
      "[CV] END colsample_bytree=0.7, learning_rate=0.05, max_depth=3, n_estimators=100; total time=   4.0s\n",
      "[CV] END colsample_bytree=0.7, learning_rate=0.05, max_depth=3, n_estimators=100; total time=   4.1s\n",
      "[CV] END colsample_bytree=0.7, learning_rate=0.05, max_depth=3, n_estimators=100; total time=   4.0s\n",
      "[CV] END colsample_bytree=0.7, learning_rate=0.05, max_depth=3, n_estimators=100; total time=   4.0s\n",
      "[CV] END colsample_bytree=0.7, learning_rate=0.05, max_depth=6, n_estimators=100; total time=   8.6s\n",
      "[CV] END colsample_bytree=0.7, learning_rate=0.05, max_depth=6, n_estimators=100; total time=   8.6s\n",
      "[CV] END colsample_bytree=0.7, learning_rate=0.05, max_depth=6, n_estimators=100; total time=   8.5s\n",
      "[CV] END colsample_bytree=0.7, learning_rate=0.05, max_depth=6, n_estimators=100; total time=   8.6s\n",
      "[CV] END colsample_bytree=0.7, learning_rate=0.05, max_depth=6, n_estimators=100; total time=   8.6s\n",
      "[CV] END colsample_bytree=0.7, learning_rate=0.05, max_depth=10, n_estimators=100; total time=  15.5s\n",
      "[CV] END colsample_bytree=0.7, learning_rate=0.05, max_depth=10, n_estimators=100; total time=  15.6s\n",
      "[CV] END colsample_bytree=0.7, learning_rate=0.05, max_depth=10, n_estimators=100; total time=  16.4s\n",
      "[CV] END colsample_bytree=0.7, learning_rate=0.05, max_depth=10, n_estimators=100; total time=  16.2s\n",
      "[CV] END colsample_bytree=0.7, learning_rate=0.05, max_depth=10, n_estimators=100; total time=  15.8s\n",
      "[CV] END colsample_bytree=0.7, learning_rate=0.1, max_depth=3, n_estimators=100; total time=   4.0s\n",
      "[CV] END colsample_bytree=0.7, learning_rate=0.1, max_depth=3, n_estimators=100; total time=   4.0s\n",
      "[CV] END colsample_bytree=0.7, learning_rate=0.1, max_depth=3, n_estimators=100; total time=   4.0s\n",
      "[CV] END colsample_bytree=0.7, learning_rate=0.1, max_depth=3, n_estimators=100; total time=   4.0s\n",
      "[CV] END colsample_bytree=0.7, learning_rate=0.1, max_depth=3, n_estimators=100; total time=   5.0s\n",
      "[CV] END colsample_bytree=0.7, learning_rate=0.1, max_depth=6, n_estimators=100; total time=  10.5s\n",
      "[CV] END colsample_bytree=0.7, learning_rate=0.1, max_depth=6, n_estimators=100; total time=   8.7s\n",
      "[CV] END colsample_bytree=0.7, learning_rate=0.1, max_depth=6, n_estimators=100; total time=   8.8s\n",
      "[CV] END colsample_bytree=0.7, learning_rate=0.1, max_depth=6, n_estimators=100; total time=   8.4s\n",
      "[CV] END colsample_bytree=0.7, learning_rate=0.1, max_depth=6, n_estimators=100; total time=   8.3s\n",
      "[CV] END colsample_bytree=0.7, learning_rate=0.1, max_depth=10, n_estimators=100; total time=  14.7s\n",
      "[CV] END colsample_bytree=0.7, learning_rate=0.1, max_depth=10, n_estimators=100; total time=  15.0s\n",
      "[CV] END colsample_bytree=0.7, learning_rate=0.1, max_depth=10, n_estimators=100; total time=  16.0s\n",
      "[CV] END colsample_bytree=0.7, learning_rate=0.1, max_depth=10, n_estimators=100; total time=  15.0s\n",
      "[CV] END colsample_bytree=0.7, learning_rate=0.1, max_depth=10, n_estimators=100; total time=  15.7s\n",
      "[CV] END colsample_bytree=0.7, learning_rate=0.16, max_depth=3, n_estimators=100; total time=   4.5s\n",
      "[CV] END colsample_bytree=0.7, learning_rate=0.16, max_depth=3, n_estimators=100; total time=   4.1s\n",
      "[CV] END colsample_bytree=0.7, learning_rate=0.16, max_depth=3, n_estimators=100; total time=   4.2s\n",
      "[CV] END colsample_bytree=0.7, learning_rate=0.16, max_depth=3, n_estimators=100; total time=   4.0s\n",
      "[CV] END colsample_bytree=0.7, learning_rate=0.16, max_depth=3, n_estimators=100; total time=   4.0s\n",
      "[CV] END colsample_bytree=0.7, learning_rate=0.16, max_depth=6, n_estimators=100; total time=   8.2s\n",
      "[CV] END colsample_bytree=0.7, learning_rate=0.16, max_depth=6, n_estimators=100; total time=   8.2s\n",
      "[CV] END colsample_bytree=0.7, learning_rate=0.16, max_depth=6, n_estimators=100; total time=   8.2s\n",
      "[CV] END colsample_bytree=0.7, learning_rate=0.16, max_depth=6, n_estimators=100; total time=   8.1s\n",
      "[CV] END colsample_bytree=0.7, learning_rate=0.16, max_depth=6, n_estimators=100; total time=   8.1s\n",
      "[CV] END colsample_bytree=0.7, learning_rate=0.16, max_depth=10, n_estimators=100; total time=  15.4s\n",
      "[CV] END colsample_bytree=0.7, learning_rate=0.16, max_depth=10, n_estimators=100; total time=  15.9s\n",
      "[CV] END colsample_bytree=0.7, learning_rate=0.16, max_depth=10, n_estimators=100; total time=  15.2s\n",
      "[CV] END colsample_bytree=0.7, learning_rate=0.16, max_depth=10, n_estimators=100; total time=  15.0s\n",
      "[CV] END colsample_bytree=0.7, learning_rate=0.16, max_depth=10, n_estimators=100; total time=  17.9s\n",
      "[CV] END colsample_bytree=0.7, learning_rate=0.2, max_depth=3, n_estimators=100; total time=   4.4s\n",
      "[CV] END colsample_bytree=0.7, learning_rate=0.2, max_depth=3, n_estimators=100; total time=   4.1s\n",
      "[CV] END colsample_bytree=0.7, learning_rate=0.2, max_depth=3, n_estimators=100; total time=   4.3s\n",
      "[CV] END colsample_bytree=0.7, learning_rate=0.2, max_depth=3, n_estimators=100; total time=   4.2s\n",
      "[CV] END colsample_bytree=0.7, learning_rate=0.2, max_depth=3, n_estimators=100; total time=   4.0s\n",
      "[CV] END colsample_bytree=0.7, learning_rate=0.2, max_depth=6, n_estimators=100; total time=   8.2s\n",
      "[CV] END colsample_bytree=0.7, learning_rate=0.2, max_depth=6, n_estimators=100; total time=   8.5s\n",
      "[CV] END colsample_bytree=0.7, learning_rate=0.2, max_depth=6, n_estimators=100; total time=   9.6s\n",
      "[CV] END colsample_bytree=0.7, learning_rate=0.2, max_depth=6, n_estimators=100; total time=   8.2s\n",
      "[CV] END colsample_bytree=0.7, learning_rate=0.2, max_depth=6, n_estimators=100; total time=   8.3s\n",
      "[CV] END colsample_bytree=0.7, learning_rate=0.2, max_depth=10, n_estimators=100; total time=  15.1s\n",
      "[CV] END colsample_bytree=0.7, learning_rate=0.2, max_depth=10, n_estimators=100; total time=  15.4s\n",
      "[CV] END colsample_bytree=0.7, learning_rate=0.2, max_depth=10, n_estimators=100; total time=  15.1s\n",
      "[CV] END colsample_bytree=0.7, learning_rate=0.2, max_depth=10, n_estimators=100; total time=  15.7s\n",
      "[CV] END colsample_bytree=0.7, learning_rate=0.2, max_depth=10, n_estimators=100; total time=  14.5s\n",
      "Best parameters: {'colsample_bytree': 0.7, 'learning_rate': 0.2, 'max_depth': 6, 'n_estimators': 100}\n",
      "Highest AUC:  0.6554740023561267\n"
     ]
    }
   ],
   "source": [
    "params = { 'max_depth': [3,6,10],\n",
    "           'learning_rate': [0.01, 0.05, 0.1, .16, .2],\n",
    "           'n_estimators': [100],\n",
    "           'colsample_bytree': [0.3, 0.7]}\n",
    "\n",
    "xgbr = XGBClassifier(seed = 42,eval_metric=\"logloss\")\n",
    "clf = GridSearchCV(estimator=xgbr, \n",
    "                   param_grid=params,\n",
    "                   scoring='roc_auc', \n",
    "                   verbose=2)\n",
    "\n",
    "clf.fit(X_train, y_train)\n",
    "print(\"Best parameters:\", clf.best_params_)\n",
    "print(\"Highest AUC: \", clf.best_score_)"
   ]
  },
  {
   "cell_type": "code",
   "execution_count": 18,
   "id": "83f4a1f3",
   "metadata": {},
   "outputs": [
    {
     "name": "stdout",
     "output_type": "stream",
     "text": [
      "0.290916998184162 0.1824212271973466 0.3475526594938627\n"
     ]
    }
   ],
   "source": [
    "#Compute percent accidents\n",
    "\n",
    "percent_har = crash_df.HAR.sum()/crash_df.shape[0]\n",
    "\n",
    "#Percent of fatalities that are HAR\n",
    "percent_fatal_har = crash_df[crash_df.INJURIES_FATAL > 0].HAR.sum()/crash_df[crash_df.INJURIES_FATAL > 0].shape[0]\n",
    "\n",
    "#Percent of pedestrian accidents that are HAR\n",
    "percent_ped_har = crash_df[crash_df.FIRST_CRASH_TYPE == \"PEDESTRIAN\"].HAR.sum()/crash_df[crash_df.FIRST_CRASH_TYPE == \"PEDESTRIAN\"].shape[0]\n",
    "\n",
    "print(percent_har, percent_fatal_har, percent_ped_har)"
   ]
  },
  {
   "cell_type": "code",
   "execution_count": 19,
   "id": "07321cf9",
   "metadata": {},
   "outputs": [],
   "source": [
    "#Accidents by hour\n",
    "#See above"
   ]
  },
  {
   "cell_type": "code",
   "execution_count": null,
   "id": "1dd4b0b6",
   "metadata": {},
   "outputs": [],
   "source": []
  },
  {
   "cell_type": "code",
   "execution_count": 21,
   "id": "be4a0bc0",
   "metadata": {},
   "outputs": [],
   "source": [
    "#Neighborhood HAR percentage vs. median income"
   ]
  },
  {
   "cell_type": "markdown",
   "id": "584d7c48",
   "metadata": {},
   "source": [
    "Let's work on using the geodata and combining it with Neighborhood geodata"
   ]
  },
  {
   "cell_type": "code",
   "execution_count": 59,
   "id": "f2ad2f9c",
   "metadata": {},
   "outputs": [],
   "source": [
    "neigh_df = geopandas.read_file(\"neighborhoods.csv\")\n",
    "neigh_df[\"geometry\"] = geopandas.GeoSeries.from_wkt(neigh_df['the_geom'])\n",
    "neigh_df = neigh_df.set_crs(\"EPSG:4326\")\n",
    "\n",
    "neigh_df.set_index(\"PRI_NEIGH\", inplace=True)"
   ]
  },
  {
   "cell_type": "code",
   "execution_count": 60,
   "id": "af86caa8",
   "metadata": {},
   "outputs": [
    {
     "data": {
      "text/plain": [
       "the_geom        object\n",
       "SEC_NEIGH       object\n",
       "SHAPE_AREA      object\n",
       "SHAPE_LEN       object\n",
       "geometry      geometry\n",
       "dtype: object"
      ]
     },
     "execution_count": 60,
     "metadata": {},
     "output_type": "execute_result"
    }
   ],
   "source": [
    "neigh_df.dtypes"
   ]
  },
  {
   "cell_type": "code",
   "execution_count": 61,
   "id": "fdf0cab8",
   "metadata": {},
   "outputs": [
    {
     "data": {
      "text/plain": [
       "<AxesSubplot:>"
      ]
     },
     "execution_count": 61,
     "metadata": {},
     "output_type": "execute_result"
    },
    {
     "data": {
      "image/png": "[encoded data removed]",
      "text/plain": [
       "<Figure size 432x288 with 1 Axes>"
      ]
     },
     "metadata": {
      "needs_background": "light"
     },
     "output_type": "display_data"
    }
   ],
   "source": [
    "neigh_df.plot()"
   ]
  },
  {
   "cell_type": "code",
   "execution_count": 62,
   "id": "b0554aad",
   "metadata": {},
   "outputs": [],
   "source": [
    "crash_df[\"GEOMETRY\"] = geopandas.GeoSeries.from_wkt(crash_df[\"LOCATION\"])"
   ]
  },
  {
   "cell_type": "code",
   "execution_count": 63,
   "id": "323b577b",
   "metadata": {},
   "outputs": [],
   "source": [
    "def find_neigh(location):\n",
    "    if location is None:\n",
    "        return None\n",
    "    for neigh in neigh_df.index:\n",
    "        if location.within(neigh_df.loc[neigh,\"geometry\"]):\n",
    "            return neigh\n",
    "    return None\n",
    "            \n",
    "crash_df[\"neigh\"] = crash_df.GEOMETRY.apply(find_neigh)"
   ]
  },
  {
   "cell_type": "code",
   "execution_count": 64,
   "id": "92cdc91c",
   "metadata": {},
   "outputs": [],
   "source": [
    "def neigh_percent_har(n):\n",
    "    mask = crash_df4.neigh == n\n",
    "    return 100*crash_df4[mask].HAR.sum()/mask.sum()"
   ]
  },
  {
   "cell_type": "code",
   "execution_count": 66,
   "id": "9898b1f0",
   "metadata": {},
   "outputs": [],
   "source": [
    "features = [\"POSTED_SPEED_LIMIT\",\n",
    "            \"BEAT_OF_OCCURRENCE\",\"CRASH_HOUR\",\"CRASH_DAY_OF_WEEK\",\n",
    "            \"CRASH_MONTH\",\"LATITUDE\",\"LONGITUDE\", \"DARK\", \"VIS_WEATHER\",\"OVERCAST\",\"NO_TRAFFIC_CONTROL\",\n",
    "           \"WORK_ZONE\",\"DRY\",\"neigh\"]\n",
    "\n",
    "crash_df4 = crash_df[features+[\"HAR\"]].dropna()"
   ]
  },
  {
   "cell_type": "code",
   "execution_count": 67,
   "id": "59586d26",
   "metadata": {},
   "outputs": [
    {
     "data": {
      "text/plain": [
       "22.762970014278913"
      ]
     },
     "execution_count": 67,
     "metadata": {},
     "output_type": "execute_result"
    }
   ],
   "source": [
    "neigh_percent_har(\"Lincoln Park\")"
   ]
  },
  {
   "cell_type": "code",
   "execution_count": 68,
   "id": "f7ebc4fe",
   "metadata": {},
   "outputs": [],
   "source": [
    "neigh_df.reset_index(inplace=True)\n",
    "\n",
    "neigh_df[\"percent_har\"] = neigh_df.PRI_NEIGH.apply(neigh_percent_har)"
   ]
  },
  {
   "cell_type": "code",
   "execution_count": 69,
   "id": "7963df35",
   "metadata": {},
   "outputs": [
    {
     "data": {
      "text/html": [
       "<div>\n",
       "<style scoped>\n",
       "    .dataframe tbody tr th:only-of-type {\n",
       "        vertical-align: middle;\n",
       "    }\n",
       "\n",
       "    .dataframe tbody tr th {\n",
       "        vertical-align: top;\n",
       "    }\n",
       "\n",
       "    .dataframe thead th {\n",
       "        text-align: right;\n",
       "    }\n",
       "</style>\n",
       "<table border=\"1\" class=\"dataframe\">\n",
       "  <thead>\n",
       "    <tr style=\"text-align: right;\">\n",
       "      <th></th>\n",
       "      <th>PRI_NEIGH</th>\n",
       "      <th>the_geom</th>\n",
       "      <th>SEC_NEIGH</th>\n",
       "      <th>SHAPE_AREA</th>\n",
       "      <th>SHAPE_LEN</th>\n",
       "      <th>geometry</th>\n",
       "      <th>percent_har</th>\n",
       "    </tr>\n",
       "  </thead>\n",
       "  <tbody>\n",
       "    <tr>\n",
       "      <th>0</th>\n",
       "      <td>Grand Boulevard</td>\n",
       "      <td>MULTIPOLYGON (((-87.60670812560372 41.81681377...</td>\n",
       "      <td>BRONZEVILLE</td>\n",
       "      <td>48492503.1554</td>\n",
       "      <td>28196.837157</td>\n",
       "      <td>MULTIPOLYGON (((-87.60671 41.81681, -87.60670 ...</td>\n",
       "      <td>33.674514</td>\n",
       "    </tr>\n",
       "    <tr>\n",
       "      <th>1</th>\n",
       "      <td>Printers Row</td>\n",
       "      <td>MULTIPOLYGON (((-87.62760697485348 41.87437097...</td>\n",
       "      <td>PRINTERS ROW</td>\n",
       "      <td>2162137.97139</td>\n",
       "      <td>6864.247156</td>\n",
       "      <td>MULTIPOLYGON (((-87.62761 41.87437, -87.62760 ...</td>\n",
       "      <td>18.290258</td>\n",
       "    </tr>\n",
       "    <tr>\n",
       "      <th>2</th>\n",
       "      <td>United Center</td>\n",
       "      <td>MULTIPOLYGON (((-87.66706868914602 41.88885187...</td>\n",
       "      <td>UNITED CENTER</td>\n",
       "      <td>32520512.7053</td>\n",
       "      <td>23101.363745</td>\n",
       "      <td>MULTIPOLYGON (((-87.66707 41.88885, -87.66707 ...</td>\n",
       "      <td>29.747485</td>\n",
       "    </tr>\n",
       "    <tr>\n",
       "      <th>3</th>\n",
       "      <td>Sheffield &amp; DePaul</td>\n",
       "      <td>MULTIPOLYGON (((-87.65833494805533 41.92166144...</td>\n",
       "      <td>SHEFFIELD &amp; DEPAUL</td>\n",
       "      <td>10482592.2987</td>\n",
       "      <td>13227.049745</td>\n",
       "      <td>MULTIPOLYGON (((-87.65833 41.92166, -87.65835 ...</td>\n",
       "      <td>23.626853</td>\n",
       "    </tr>\n",
       "    <tr>\n",
       "      <th>4</th>\n",
       "      <td>Humboldt Park</td>\n",
       "      <td>MULTIPOLYGON (((-87.74059567509266 41.88782316...</td>\n",
       "      <td>HUMBOLDT PARK</td>\n",
       "      <td>125010425.593</td>\n",
       "      <td>46126.751351</td>\n",
       "      <td>MULTIPOLYGON (((-87.74060 41.88782, -87.74060 ...</td>\n",
       "      <td>35.401460</td>\n",
       "    </tr>\n",
       "    <tr>\n",
       "      <th>...</th>\n",
       "      <td>...</td>\n",
       "      <td>...</td>\n",
       "      <td>...</td>\n",
       "      <td>...</td>\n",
       "      <td>...</td>\n",
       "      <td>...</td>\n",
       "      <td>...</td>\n",
       "    </tr>\n",
       "    <tr>\n",
       "      <th>93</th>\n",
       "      <td>Belmont Cragin</td>\n",
       "      <td>MULTIPOLYGON (((-87.74142999502229 41.91698483...</td>\n",
       "      <td>BELMONT CRAGIN,HERMOSA</td>\n",
       "      <td>109099407.211</td>\n",
       "      <td>43311.706886</td>\n",
       "      <td>MULTIPOLYGON (((-87.74143 41.91698, -87.74141 ...</td>\n",
       "      <td>30.883934</td>\n",
       "    </tr>\n",
       "    <tr>\n",
       "      <th>94</th>\n",
       "      <td>Austin</td>\n",
       "      <td>MULTIPOLYGON (((-87.75619515209075 41.91546954...</td>\n",
       "      <td>AUSTIN</td>\n",
       "      <td>170037750.826</td>\n",
       "      <td>55473.345911</td>\n",
       "      <td>MULTIPOLYGON (((-87.75620 41.91547, -87.75588 ...</td>\n",
       "      <td>39.294596</td>\n",
       "    </tr>\n",
       "    <tr>\n",
       "      <th>95</th>\n",
       "      <td>Gold Coast</td>\n",
       "      <td>MULTIPOLYGON (((-87.62645810267597 41.91147052...</td>\n",
       "      <td>GOLD COAST</td>\n",
       "      <td>7165705.53467</td>\n",
       "      <td>13685.479377</td>\n",
       "      <td>MULTIPOLYGON (((-87.62646 41.91147, -87.62640 ...</td>\n",
       "      <td>19.414550</td>\n",
       "    </tr>\n",
       "    <tr>\n",
       "      <th>96</th>\n",
       "      <td>Boystown</td>\n",
       "      <td>MULTIPOLYGON (((-87.64878470805166 41.93998753...</td>\n",
       "      <td>BOYSTOWN</td>\n",
       "      <td>3365778.97115</td>\n",
       "      <td>9780.268985</td>\n",
       "      <td>MULTIPOLYGON (((-87.64878 41.93999, -87.64927 ...</td>\n",
       "      <td>24.285714</td>\n",
       "    </tr>\n",
       "    <tr>\n",
       "      <th>97</th>\n",
       "      <td>River North</td>\n",
       "      <td>MULTIPOLYGON (((-87.63144510787805 41.90390085...</td>\n",
       "      <td>RIVER NORTH</td>\n",
       "      <td>38766442.5194</td>\n",
       "      <td>31506.03781</td>\n",
       "      <td>MULTIPOLYGON (((-87.63145 41.90390, -87.63144 ...</td>\n",
       "      <td>21.721126</td>\n",
       "    </tr>\n",
       "  </tbody>\n",
       "</table>\n",
       "<p>98 rows × 7 columns</p>\n",
       "</div>"
      ],
      "text/plain": [
       "             PRI_NEIGH                                           the_geom  \\\n",
       "0      Grand Boulevard  MULTIPOLYGON (((-87.60670812560372 41.81681377...   \n",
       "1         Printers Row  MULTIPOLYGON (((-87.62760697485348 41.87437097...   \n",
       "2        United Center  MULTIPOLYGON (((-87.66706868914602 41.88885187...   \n",
       "3   Sheffield & DePaul  MULTIPOLYGON (((-87.65833494805533 41.92166144...   \n",
       "4        Humboldt Park  MULTIPOLYGON (((-87.74059567509266 41.88782316...   \n",
       "..                 ...                                                ...   \n",
       "93      Belmont Cragin  MULTIPOLYGON (((-87.74142999502229 41.91698483...   \n",
       "94              Austin  MULTIPOLYGON (((-87.75619515209075 41.91546954...   \n",
       "95          Gold Coast  MULTIPOLYGON (((-87.62645810267597 41.91147052...   \n",
       "96            Boystown  MULTIPOLYGON (((-87.64878470805166 41.93998753...   \n",
       "97         River North  MULTIPOLYGON (((-87.63144510787805 41.90390085...   \n",
       "\n",
       "                 SEC_NEIGH     SHAPE_AREA     SHAPE_LEN  \\\n",
       "0              BRONZEVILLE  48492503.1554  28196.837157   \n",
       "1             PRINTERS ROW  2162137.97139   6864.247156   \n",
       "2            UNITED CENTER  32520512.7053  23101.363745   \n",
       "3       SHEFFIELD & DEPAUL  10482592.2987  13227.049745   \n",
       "4            HUMBOLDT PARK  125010425.593  46126.751351   \n",
       "..                     ...            ...           ...   \n",
       "93  BELMONT CRAGIN,HERMOSA  109099407.211  43311.706886   \n",
       "94                  AUSTIN  170037750.826  55473.345911   \n",
       "95              GOLD COAST  7165705.53467  13685.479377   \n",
       "96                BOYSTOWN  3365778.97115   9780.268985   \n",
       "97             RIVER NORTH  38766442.5194   31506.03781   \n",
       "\n",
       "                                             geometry  percent_har  \n",
       "0   MULTIPOLYGON (((-87.60671 41.81681, -87.60670 ...    33.674514  \n",
       "1   MULTIPOLYGON (((-87.62761 41.87437, -87.62760 ...    18.290258  \n",
       "2   MULTIPOLYGON (((-87.66707 41.88885, -87.66707 ...    29.747485  \n",
       "3   MULTIPOLYGON (((-87.65833 41.92166, -87.65835 ...    23.626853  \n",
       "4   MULTIPOLYGON (((-87.74060 41.88782, -87.74060 ...    35.401460  \n",
       "..                                                ...          ...  \n",
       "93  MULTIPOLYGON (((-87.74143 41.91698, -87.74141 ...    30.883934  \n",
       "94  MULTIPOLYGON (((-87.75620 41.91547, -87.75588 ...    39.294596  \n",
       "95  MULTIPOLYGON (((-87.62646 41.91147, -87.62640 ...    19.414550  \n",
       "96  MULTIPOLYGON (((-87.64878 41.93999, -87.64927 ...    24.285714  \n",
       "97  MULTIPOLYGON (((-87.63145 41.90390, -87.63144 ...    21.721126  \n",
       "\n",
       "[98 rows x 7 columns]"
      ]
     },
     "execution_count": 69,
     "metadata": {},
     "output_type": "execute_result"
    }
   ],
   "source": [
    "neigh_df"
   ]
  },
  {
   "cell_type": "code",
   "execution_count": 71,
   "id": "4a700559",
   "metadata": {},
   "outputs": [
    {
     "data": {
      "image/png": "[encoded data removed]",
      "text/plain": [
       "<Figure size 432x288 with 2 Axes>"
      ]
     },
     "metadata": {
      "needs_background": "light"
     },
     "output_type": "display_data"
    }
   ],
   "source": [
    "base = neigh_df.plot(\"percent_har\", legend = True, alpha = .6,\n",
    "                    cmap = plt.get_cmap(\"Reds\"))\n",
    "\n",
    "plt.xticks([])\n",
    "plt.yticks([])\n",
    "\n",
    "#Give key for contextily tileset\n",
    "ctx.add_basemap(base, attribution=False, \n",
    "                source=ctx.providers.MapTiler.Satellite(key=\"gkcz91MMrEyfto0Flbbc\") \n",
    "                ,crs=neigh_df.crs.to_string())\n",
    "\n",
    "plt.savefig(\"neigh_har_rate.png\", dpi=900,bbox_inches=\"tight\")"
   ]
  },
  {
   "cell_type": "code",
   "execution_count": 72,
   "id": "d1c67377",
   "metadata": {},
   "outputs": [],
   "source": [
    "income_df = pd.read_csv(\"neighborhood_income.csv\")"
   ]
  },
  {
   "cell_type": "code",
   "execution_count": 73,
   "id": "20f7c579",
   "metadata": {},
   "outputs": [
    {
     "data": {
      "text/html": [
       "<div>\n",
       "<style scoped>\n",
       "    .dataframe tbody tr th:only-of-type {\n",
       "        vertical-align: middle;\n",
       "    }\n",
       "\n",
       "    .dataframe tbody tr th {\n",
       "        vertical-align: top;\n",
       "    }\n",
       "\n",
       "    .dataframe thead th {\n",
       "        text-align: right;\n",
       "    }\n",
       "</style>\n",
       "<table border=\"1\" class=\"dataframe\">\n",
       "  <thead>\n",
       "    <tr style=\"text-align: right;\">\n",
       "      <th></th>\n",
       "      <th>neighborhood</th>\n",
       "      <th>med_income</th>\n",
       "    </tr>\n",
       "  </thead>\n",
       "  <tbody>\n",
       "    <tr>\n",
       "      <th>0</th>\n",
       "      <td>Albany Park</td>\n",
       "      <td>40711.0</td>\n",
       "    </tr>\n",
       "    <tr>\n",
       "      <th>1</th>\n",
       "      <td>Archer Heights</td>\n",
       "      <td>39431.0</td>\n",
       "    </tr>\n",
       "    <tr>\n",
       "      <th>2</th>\n",
       "      <td>Armour Square</td>\n",
       "      <td>22756.0</td>\n",
       "    </tr>\n",
       "    <tr>\n",
       "      <th>3</th>\n",
       "      <td>Ashburn</td>\n",
       "      <td>53633.0</td>\n",
       "    </tr>\n",
       "    <tr>\n",
       "      <th>4</th>\n",
       "      <td>Auburn Gresham</td>\n",
       "      <td>34238.0</td>\n",
       "    </tr>\n",
       "    <tr>\n",
       "      <th>...</th>\n",
       "      <td>...</td>\n",
       "      <td>...</td>\n",
       "    </tr>\n",
       "    <tr>\n",
       "      <th>72</th>\n",
       "      <td>West Lawn</td>\n",
       "      <td>47017.0</td>\n",
       "    </tr>\n",
       "    <tr>\n",
       "      <th>73</th>\n",
       "      <td>West Pullman</td>\n",
       "      <td>40478.0</td>\n",
       "    </tr>\n",
       "    <tr>\n",
       "      <th>74</th>\n",
       "      <td>West Ridge</td>\n",
       "      <td>41144.0</td>\n",
       "    </tr>\n",
       "    <tr>\n",
       "      <th>75</th>\n",
       "      <td>West Town</td>\n",
       "      <td>38915.0</td>\n",
       "    </tr>\n",
       "    <tr>\n",
       "      <th>76</th>\n",
       "      <td>Woodlawn</td>\n",
       "      <td>18266.0</td>\n",
       "    </tr>\n",
       "  </tbody>\n",
       "</table>\n",
       "<p>77 rows × 2 columns</p>\n",
       "</div>"
      ],
      "text/plain": [
       "      neighborhood  med_income\n",
       "0      Albany Park     40711.0\n",
       "1   Archer Heights     39431.0\n",
       "2    Armour Square     22756.0\n",
       "3          Ashburn     53633.0\n",
       "4   Auburn Gresham     34238.0\n",
       "..             ...         ...\n",
       "72       West Lawn     47017.0\n",
       "73    West Pullman     40478.0\n",
       "74      West Ridge     41144.0\n",
       "75       West Town     38915.0\n",
       "76        Woodlawn     18266.0\n",
       "\n",
       "[77 rows x 2 columns]"
      ]
     },
     "execution_count": 73,
     "metadata": {},
     "output_type": "execute_result"
    }
   ],
   "source": [
    "income_df"
   ]
  },
  {
   "cell_type": "code",
   "execution_count": 74,
   "id": "a5ac6485",
   "metadata": {},
   "outputs": [],
   "source": [
    "neigh_df2 = income_df.set_index(\"neighborhood\").join(neigh_df.set_index(\"PRI_NEIGH\"))"
   ]
  },
  {
   "cell_type": "code",
   "execution_count": 75,
   "id": "00bc72de",
   "metadata": {},
   "outputs": [],
   "source": [
    "neigh_df2 = neigh_df2[[\"med_income\",\"percent_har\"]].dropna()"
   ]
  },
  {
   "cell_type": "code",
   "execution_count": 76,
   "id": "dd359a1d",
   "metadata": {},
   "outputs": [
    {
     "data": {
      "text/html": [
       "<div>\n",
       "<style scoped>\n",
       "    .dataframe tbody tr th:only-of-type {\n",
       "        vertical-align: middle;\n",
       "    }\n",
       "\n",
       "    .dataframe tbody tr th {\n",
       "        vertical-align: top;\n",
       "    }\n",
       "\n",
       "    .dataframe thead th {\n",
       "        text-align: right;\n",
       "    }\n",
       "</style>\n",
       "<table border=\"1\" class=\"dataframe\">\n",
       "  <thead>\n",
       "    <tr style=\"text-align: right;\">\n",
       "      <th></th>\n",
       "      <th>med_income</th>\n",
       "      <th>percent_har</th>\n",
       "    </tr>\n",
       "    <tr>\n",
       "      <th>neighborhood</th>\n",
       "      <th></th>\n",
       "      <th></th>\n",
       "    </tr>\n",
       "  </thead>\n",
       "  <tbody>\n",
       "    <tr>\n",
       "      <th>Albany Park</th>\n",
       "      <td>40711.0</td>\n",
       "      <td>31.136482</td>\n",
       "    </tr>\n",
       "    <tr>\n",
       "      <th>Archer Heights</th>\n",
       "      <td>39431.0</td>\n",
       "      <td>25.417989</td>\n",
       "    </tr>\n",
       "    <tr>\n",
       "      <th>Armour Square</th>\n",
       "      <td>22756.0</td>\n",
       "      <td>28.438228</td>\n",
       "    </tr>\n",
       "    <tr>\n",
       "      <th>Ashburn</th>\n",
       "      <td>53633.0</td>\n",
       "      <td>24.789863</td>\n",
       "    </tr>\n",
       "    <tr>\n",
       "      <th>Auburn Gresham</th>\n",
       "      <td>34238.0</td>\n",
       "      <td>36.571782</td>\n",
       "    </tr>\n",
       "    <tr>\n",
       "      <th>...</th>\n",
       "      <td>...</td>\n",
       "      <td>...</td>\n",
       "    </tr>\n",
       "    <tr>\n",
       "      <th>West Lawn</th>\n",
       "      <td>47017.0</td>\n",
       "      <td>26.772547</td>\n",
       "    </tr>\n",
       "    <tr>\n",
       "      <th>West Pullman</th>\n",
       "      <td>40478.0</td>\n",
       "      <td>37.516719</td>\n",
       "    </tr>\n",
       "    <tr>\n",
       "      <th>West Ridge</th>\n",
       "      <td>41144.0</td>\n",
       "      <td>25.723234</td>\n",
       "    </tr>\n",
       "    <tr>\n",
       "      <th>West Town</th>\n",
       "      <td>38915.0</td>\n",
       "      <td>22.608904</td>\n",
       "    </tr>\n",
       "    <tr>\n",
       "      <th>Woodlawn</th>\n",
       "      <td>18266.0</td>\n",
       "      <td>35.263595</td>\n",
       "    </tr>\n",
       "  </tbody>\n",
       "</table>\n",
       "<p>67 rows × 2 columns</p>\n",
       "</div>"
      ],
      "text/plain": [
       "                med_income  percent_har\n",
       "neighborhood                           \n",
       "Albany Park        40711.0    31.136482\n",
       "Archer Heights     39431.0    25.417989\n",
       "Armour Square      22756.0    28.438228\n",
       "Ashburn            53633.0    24.789863\n",
       "Auburn Gresham     34238.0    36.571782\n",
       "...                    ...          ...\n",
       "West Lawn          47017.0    26.772547\n",
       "West Pullman       40478.0    37.516719\n",
       "West Ridge         41144.0    25.723234\n",
       "West Town          38915.0    22.608904\n",
       "Woodlawn           18266.0    35.263595\n",
       "\n",
       "[67 rows x 2 columns]"
      ]
     },
     "execution_count": 76,
     "metadata": {},
     "output_type": "execute_result"
    }
   ],
   "source": [
    "neigh_df2"
   ]
  },
  {
   "cell_type": "code",
   "execution_count": 88,
   "id": "220e9363",
   "metadata": {},
   "outputs": [
    {
     "data": {
      "image/png": "[encoded data removed]",
      "text/plain": [
       "<Figure size 432x288 with 1 Axes>"
      ]
     },
     "metadata": {
      "needs_background": "light"
     },
     "output_type": "display_data"
    }
   ],
   "source": [
    "ax = plt.scatter(neigh_df2.med_income, neigh_df2.percent_har)\n",
    "ylabs = [str(x)+\"%\" for x in range(20,45,5)]\n",
    "xlabs = [\"$\"+str(x)+\",000\" for x in range(10,80,10)]\n",
    "plt.yticks(ticks=np.arange(20,45,5),labels=ylabs)\n",
    "plt.xticks(ticks=np.arange(10000,80000,10000),labels=xlabs)\n",
    "\n",
    "plt.ylabel(\"Hit and run percentage\")\n",
    "plt.xlabel(\"Median income\")\n",
    "plt.savefig(\"income_vs_har_rate.png\", dpi=900,bbox_inches=\"tight\")"
   ]
  },
  {
   "cell_type": "code",
   "execution_count": 293,
   "id": "1cb775b9",
   "metadata": {},
   "outputs": [],
   "source": [
    "crash_df5 = crash_df4.set_index(\"neigh\").join(neigh_df2)"
   ]
  },
  {
   "cell_type": "code",
   "execution_count": 294,
   "id": "aee16729",
   "metadata": {},
   "outputs": [],
   "source": [
    "crash_df5[\"med_income\"] = crash_df5.med_income.fillna(38625.00)"
   ]
  },
  {
   "cell_type": "code",
   "execution_count": 299,
   "id": "502af5ab",
   "metadata": {},
   "outputs": [],
   "source": [
    "crash_df5.reset_index(inplace=True)"
   ]
  },
  {
   "cell_type": "code",
   "execution_count": 303,
   "id": "116a5fab",
   "metadata": {},
   "outputs": [],
   "source": [
    "features = [\"POSTED_SPEED_LIMIT\",\n",
    "            \"BEAT_OF_OCCURRENCE\",\"CRASH_HOUR\",\"CRASH_DAY_OF_WEEK\",\n",
    "            \"CRASH_MONTH\",\"LATITUDE\",\"LONGITUDE\", \"DARK\", \"VIS_WEATHER\",\"OVERCAST\",\"NO_TRAFFIC_CONTROL\",\n",
    "           \"WORK_ZONE\",\"DRY\",\"med_income\"]\n",
    "\n",
    "crash_df5 = crash_df5[features + [\"HAR\"]]"
   ]
  },
  {
   "cell_type": "code",
   "execution_count": 306,
   "id": "c5615704",
   "metadata": {},
   "outputs": [],
   "source": [
    "X_train, y_train, X_val, y_val, X_test, y_test = train_valid_test_split(crash_df5, target = 'HAR', \n",
    "                                                                train_size=0.6, valid_size=0.2, test_size=0.2)"
   ]
  },
  {
   "cell_type": "code",
   "execution_count": 308,
   "id": "1ce8a282",
   "metadata": {},
   "outputs": [
    {
     "name": "stdout",
     "output_type": "stream",
     "text": [
      "[16:50:35] WARNING: /Users/runner/miniforge3/conda-bld/xgboost-split_1637426408905/work/src/learner.cc:1115: Starting in XGBoost 1.3.0, the default evaluation metric used with the objective 'binary:logistic' was changed from 'error' to 'logloss'. Explicitly set eval_metric if you'd like to restore the old behavior.\n"
     ]
    },
    {
     "data": {
      "text/plain": [
       "0.22432000762831056"
      ]
     },
     "execution_count": 308,
     "metadata": {},
     "output_type": "execute_result"
    }
   ],
   "source": [
    "xgboost = XGBClassifier()\n",
    "xgboost.fit(X_test, y_test)\n",
    "\n",
    "y_pred = xgboost.predict(X_val)\n",
    "metrics.f1_score(y_val,y_pred)"
   ]
  },
  {
   "cell_type": "code",
   "execution_count": 309,
   "id": "10a72b19",
   "metadata": {},
   "outputs": [
    {
     "data": {
      "image/png": "[encoded data removed]",
      "text/plain": [
       "<Figure size 432x288 with 1 Axes>"
      ]
     },
     "metadata": {
      "needs_background": "light"
     },
     "output_type": "display_data"
    }
   ],
   "source": [
    "probs = xgboost.predict_proba(X_val)\n",
    "preds = probs[:,1]\n",
    "fpr, tpr, threshold = metrics.roc_curve(y_val, preds)\n",
    "roc_auc = metrics.auc(fpr, tpr)\n",
    "auc_dict[model_name] = roc_auc\n",
    "plt.plot(fpr, tpr, label = \"XGBoost with Income\")# + ' AUC = %0.2f' % roc_auc)\n",
    "\n",
    "#Plot ROC Curve\n",
    "plt.title('Receiver Operating Characteristic')\n",
    "plt.legend(loc = 'lower right')\n",
    "plt.plot([0, 1], [0, 1],'r--')\n",
    "plt.xlim([0, 1])\n",
    "plt.ylim([0, 1])\n",
    "plt.ylabel('True Positive Rate')\n",
    "plt.xlabel('False Positive Rate')\n",
    "plt.show()"
   ]
  },
  {
   "cell_type": "code",
   "execution_count": null,
   "id": "aed6aae8",
   "metadata": {},
   "outputs": [],
   "source": []
  },
  {
   "cell_type": "code",
   "execution_count": null,
   "id": "8d22533f",
   "metadata": {},
   "outputs": [],
   "source": []
  },
  {
   "cell_type": "code",
   "execution_count": null,
   "id": "dd5df1d3",
   "metadata": {},
   "outputs": [],
   "source": []
  },
  {
   "cell_type": "code",
   "execution_count": null,
   "id": "c56d05a1",
   "metadata": {},
   "outputs": [],
   "source": []
  },
  {
   "cell_type": "code",
   "execution_count": null,
   "id": "75b783a2",
   "metadata": {},
   "outputs": [],
   "source": []
  }
 ],
 "metadata": {
  "kernelspec": {
   "display_name": "Python 3 (ipykernel)",
   "language": "python",
   "name": "python3"
  },
  "language_info": {
   "codemirror_mode": {
    "name": "ipython",
    "version": 3
   },
   "file_extension": ".py",
   "mimetype": "text/x-python",
   "name": "python",
   "nbconvert_exporter": "python",
   "pygments_lexer": "ipython3",
   "version": "3.9.7"
  }
 },
 "nbformat": 4,
 "nbformat_minor": 5
}
